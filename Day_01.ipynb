{
 "cells": [
  {
   "cell_type": "markdown",
   "id": "49d7fe5f-7df2-4986-88ea-6b27fa5cd0e1",
   "metadata": {},
   "source": [
    "## What is Numpy?\n",
    "NumPy (short for Numerical Python) is a powerful open-source Python library designed for numerical computing and array manipulation.\n"
   ]
  },
  {
   "cell_type": "markdown",
   "id": "ba7992e5-ae79-437e-ad29-85a9ca4eb263",
   "metadata": {},
   "source": [
    "## Importance of Numpy in Python:\n",
    "1. Wide variety of mathematical operations can be performed on arrays.\n",
    "2. It supports many libraries that helps us to perform high-level mathematical function that can be used to manipulate arrays.\n",
    "3. NumPy offers a rich set of functions for sorting, selecting, searching, and counting elements in arrays.\n"
   ]
  },
  {
   "cell_type": "code",
   "execution_count": 4,
   "id": "d66e77e6-782c-4a88-aa1e-2190f578106c",
   "metadata": {},
   "outputs": [
    {
     "data": {
      "text/plain": [
       "'2.3.2'"
      ]
     },
     "execution_count": 4,
     "metadata": {},
     "output_type": "execute_result"
    }
   ],
   "source": [
    "#importing numpy\n",
    "\n",
    "import numpy as np # np is used as alias of numpy and we should keep np instead of other alies names as it it like a convention.\n",
    "\n",
    "import pandas as pd\n",
    "np.__version__"
   ]
  },
  {
   "cell_type": "markdown",
   "id": "987aba64-51b4-4082-9595-119778f714a4",
   "metadata": {},
   "source": [
    "## Differences between Numpy array and list in Python:\n"
   ]
  },
  {
   "cell_type": "code",
   "execution_count": 5,
   "id": "31c1af43-7078-4a18-9dd0-55c253dae443",
   "metadata": {},
   "outputs": [
    {
     "data": {
      "text/html": [
       "<div>\n",
       "<style scoped>\n",
       "    .dataframe tbody tr th:only-of-type {\n",
       "        vertical-align: middle;\n",
       "    }\n",
       "\n",
       "    .dataframe tbody tr th {\n",
       "        vertical-align: top;\n",
       "    }\n",
       "\n",
       "    .dataframe thead th {\n",
       "        text-align: right;\n",
       "    }\n",
       "</style>\n",
       "<table border=\"1\" class=\"dataframe\">\n",
       "  <thead>\n",
       "    <tr style=\"text-align: right;\">\n",
       "      <th></th>\n",
       "      <th>Np_array</th>\n",
       "      <th>Python_list</th>\n",
       "    </tr>\n",
       "  </thead>\n",
       "  <tbody>\n",
       "    <tr>\n",
       "      <th>Data Types</th>\n",
       "      <td>Can contain homogenous data only</td>\n",
       "      <td>Can contain data of variety of types</td>\n",
       "    </tr>\n",
       "    <tr>\n",
       "      <th>Memory Efficiency</th>\n",
       "      <td>Higher</td>\n",
       "      <td>Lower</td>\n",
       "    </tr>\n",
       "    <tr>\n",
       "      <th>Speed</th>\n",
       "      <td>Much faster due to optimized C backend</td>\n",
       "      <td>Slower for large numerical operations</td>\n",
       "    </tr>\n",
       "    <tr>\n",
       "      <th>Functionability</th>\n",
       "      <td>Rich numerical  and matrix operations</td>\n",
       "      <td>NaN</td>\n",
       "    </tr>\n",
       "    <tr>\n",
       "      <th>Element Access</th>\n",
       "      <td>Faster due to direct memory access</td>\n",
       "      <td>Slower due to indirect referencing</td>\n",
       "    </tr>\n",
       "    <tr>\n",
       "      <th>Broadcasting</th>\n",
       "      <td>Supported</td>\n",
       "      <td>Not supported</td>\n",
       "    </tr>\n",
       "    <tr>\n",
       "      <th>Shape</th>\n",
       "      <td>Supports multi-dimensional arrays</td>\n",
       "      <td>1D by default and nested for more</td>\n",
       "    </tr>\n",
       "    <tr>\n",
       "      <th>Vectorized Ops</th>\n",
       "      <td>Supports element-wise operation directly</td>\n",
       "      <td>Requires loops</td>\n",
       "    </tr>\n",
       "  </tbody>\n",
       "</table>\n",
       "</div>"
      ],
      "text/plain": [
       "                          Np_array                            \\\n",
       "Data Types                  Can contain homogenous data only   \n",
       "Memory Efficiency                                     Higher   \n",
       "Speed                 Much faster due to optimized C backend   \n",
       "Functionability        Rich numerical  and matrix operations   \n",
       "Element Access            Faster due to direct memory access   \n",
       "Broadcasting                                       Supported   \n",
       "Shape                      Supports multi-dimensional arrays   \n",
       "Vectorized Ops      Supports element-wise operation directly   \n",
       "\n",
       "                   Python_list                              \n",
       "Data Types            Can contain data of variety of types  \n",
       "Memory Efficiency                                    Lower  \n",
       "Speed                Slower for large numerical operations  \n",
       "Functionability                                        NaN  \n",
       "Element Access          Slower due to indirect referencing  \n",
       "Broadcasting                                 Not supported  \n",
       "Shape                    1D by default and nested for more  \n",
       "Vectorized Ops                              Requires loops  "
      ]
     },
     "execution_count": 5,
     "metadata": {},
     "output_type": "execute_result"
    }
   ],
   "source": [
    "df = pd.read_csv('data/differences_in_np_array_and_list.csv')\n",
    "df"
   ]
  },
  {
   "cell_type": "code",
   "execution_count": 6,
   "id": "dfe2c55a-3eea-4815-86d9-ab1a43140319",
   "metadata": {},
   "outputs": [
    {
     "name": "stdout",
     "output_type": "stream",
     "text": [
      "15.3 μs ± 179 ns per loop (mean ± std. dev. of 7 runs, 100,000 loops each)\n"
     ]
    }
   ],
   "source": [
    "# Checking speed of python list for certain expression.\n",
    "%timeit [j**2 for j in range(1,101)]"
   ]
  },
  {
   "cell_type": "code",
   "execution_count": 7,
   "id": "4498fef2-c2c0-4427-b30d-8d3461237947",
   "metadata": {},
   "outputs": [
    {
     "name": "stdout",
     "output_type": "stream",
     "text": [
      "3.86 μs ± 64.4 ns per loop (mean ± std. dev. of 7 runs, 100,000 loops each)\n"
     ]
    }
   ],
   "source": [
    "# Checking speed of numpy array for same expression as of list.\n",
    "%timeit np.arange(1,101)**2"
   ]
  },
  {
   "cell_type": "markdown",
   "id": "08897b35-ff4d-41f4-8990-e37ec5fe438d",
   "metadata": {},
   "source": [
    "## Creating np arrays:\n",
    "### There are 6 main ways in total to create np arrays\n",
    "🧰 1. Conversion from Python Structures\n",
    "- Use np.array() to convert lists, tuples, or nested sequences.\n",
    "- Example:\n",
    "np.array([[1, 2], [3, 4]])\n",
    "\n",
    "⚙️ 2. Intrinsic NumPy Creation Functions\n",
    "These are built-in functions for structured array creation:\n",
    "- np.zeros(), np.ones(), np.full()\n",
    "- np.arange(), np.linspace(), np.eye(), np.identity()\n",
    "\n",
    "🔁 3. Replicating or Mutating Existing Arrays\n",
    "- Use np.copy(), np.reshape(), np.tile(), np.repeat(), np.concatenate(), etc.\n",
    "\n",
    "💾 4. Reading from Disk\n",
    "- Load arrays from files using:\n",
    "- np.load(), np.genfromtxt(), np.fromfile(), np.loadtxt()\n",
    "\n",
    "🧵 5. Creating from Raw Bytes or Buffers\n",
    "- Use np.frombuffer(), np.fromstring() for low-level memory manipulation.\n",
    "\n",
    "🎲 6. Special Library Functions (Random)\n",
    "- Generate random arrays using:\n",
    "- np.random.rand(), np.random.randn(), np.random.randint(), np.random.uniform()\n",
    "\n",
    "Each method has its own strengths depending on whether you're initializing, transforming, or importing data. Want a cheat sheet or code examples for each?\n"
   ]
  },
  {
   "cell_type": "markdown",
   "id": "153f40bc-84fd-45b6-8476-851b05fe8580",
   "metadata": {},
   "source": [
    "##  1. Conversion from Python Structures:"
   ]
  },
  {
   "cell_type": "code",
   "execution_count": 8,
   "id": "4f5f7a24-a6f7-4512-849a-1a00a94d6fac",
   "metadata": {},
   "outputs": [
    {
     "data": {
      "text/plain": [
       "array([1, 2, 3, 4, 5, 6])"
      ]
     },
     "execution_count": 8,
     "metadata": {},
     "output_type": "execute_result"
    }
   ],
   "source": [
    "array0 = np.array([1,2,3,4,5,6]) # Creating a 1d-array\n",
    "array0\n"
   ]
  },
  {
   "cell_type": "code",
   "execution_count": 9,
   "id": "e7542374-c8aa-4397-a034-7f4a1d17da89",
   "metadata": {},
   "outputs": [
    {
     "data": {
      "text/plain": [
       "array([[1, 2],\n",
       "       [3, 4],\n",
       "       [5, 6],\n",
       "       [7, 8]])"
      ]
     },
     "execution_count": 9,
     "metadata": {},
     "output_type": "execute_result"
    }
   ],
   "source": [
    "array1 = np.array([[1,2],[3,4],[5,6],[7,8]]) # Creating a 2d array\n",
    "array1"
   ]
  },
  {
   "cell_type": "code",
   "execution_count": 10,
   "id": "6d0596b6-f562-41d0-99d2-2b4be8a6e22f",
   "metadata": {},
   "outputs": [
    {
     "data": {
      "text/plain": [
       "array([[[ 1,  2],\n",
       "        [ 3,  4],\n",
       "        [ 5,  6]],\n",
       "\n",
       "       [[ 7,  8],\n",
       "        [ 9, 10],\n",
       "        [11, 12]]])"
      ]
     },
     "execution_count": 10,
     "metadata": {},
     "output_type": "execute_result"
    }
   ],
   "source": [
    "array2 = np.array([[[1,2] , [3,4] ,[5,6]], [[7,8], [9,10],[11,12]]]) # Creating a 3d- array\n",
    "array2"
   ]
  },
  {
   "cell_type": "code",
   "execution_count": 11,
   "id": "96a694cc-74ce-42fb-9275-3a307c90c6e5",
   "metadata": {},
   "outputs": [
    {
     "data": {
      "text/plain": [
       "array([1, 2, 3, 4, 5])"
      ]
     },
     "execution_count": 11,
     "metadata": {},
     "output_type": "execute_result"
    }
   ],
   "source": [
    "array3 = np.array((1,2,3,4,5))\n",
    "array3\n"
   ]
  },
  {
   "cell_type": "code",
   "execution_count": 12,
   "id": "21a2ddf5-46e4-4070-9859-0478f228cb5d",
   "metadata": {},
   "outputs": [
    {
     "data": {
      "text/plain": [
       "array({1, 2, 3, 4, 5}, dtype=object)"
      ]
     },
     "execution_count": 12,
     "metadata": {},
     "output_type": "execute_result"
    }
   ],
   "source": [
    "array4 = np.array({1,2,3,4,5})\n",
    "array4"
   ]
  },
  {
   "cell_type": "code",
   "execution_count": 13,
   "id": "a66c22b6-5517-4fe7-a4cf-49461f384815",
   "metadata": {},
   "outputs": [
    {
     "data": {
      "text/plain": [
       "array(dict_items([('a', 10), ('b', 20), ('c', 30)]), dtype=object)"
      ]
     },
     "execution_count": 13,
     "metadata": {},
     "output_type": "execute_result"
    }
   ],
   "source": [
    "array5 = np.array({'a':10, 'b':20, 'c':30}.items())\n",
    "array5"
   ]
  },
  {
   "cell_type": "markdown",
   "id": "bfd506e5-e500-4ad4-99c2-ec981b7414ac",
   "metadata": {},
   "source": [
    "## ⚙️ 2. Intrinsic NumPy Creation Functions"
   ]
  },
  {
   "cell_type": "markdown",
   "id": "ad5e146d-cea5-4c25-ba91-1216a091eebd",
   "metadata": {},
   "source": [
    "## Zeros"
   ]
  },
  {
   "cell_type": "code",
   "execution_count": 14,
   "id": "cc111b89-9708-4152-809f-997190df0499",
   "metadata": {},
   "outputs": [
    {
     "data": {
      "text/plain": [
       "array([0, 0, 0, 0, 0, 0, 0, 0, 0])"
      ]
     },
     "execution_count": 14,
     "metadata": {},
     "output_type": "execute_result"
    }
   ],
   "source": [
    "array7 = np.zeros(9, dtype= 'int64')\n",
    "array7"
   ]
  },
  {
   "cell_type": "markdown",
   "id": "4cc3943c-fbca-40f7-9c07-2996ec048536",
   "metadata": {},
   "source": [
    "## Ones"
   ]
  },
  {
   "cell_type": "code",
   "execution_count": 15,
   "id": "ab75d6e6-a841-4fea-b644-33268073e39c",
   "metadata": {},
   "outputs": [
    {
     "data": {
      "text/plain": [
       "array([1, 1, 1, 1, 1, 1, 1, 1, 1])"
      ]
     },
     "execution_count": 15,
     "metadata": {},
     "output_type": "execute_result"
    }
   ],
   "source": [
    "aa = np.ones(9, dtype= 'int64')\n",
    "aa"
   ]
  },
  {
   "cell_type": "markdown",
   "id": "c5d389d6-013e-4a25-b177-d60d6a689e2e",
   "metadata": {},
   "source": [
    "## Full"
   ]
  },
  {
   "cell_type": "code",
   "execution_count": 16,
   "id": "bbbbcc7b-97a1-4b4c-b392-c9b7a317a1ab",
   "metadata": {},
   "outputs": [
    {
     "data": {
      "text/plain": [
       "array([[[[1, 2, 3],\n",
       "         [1, 2, 3],\n",
       "         [1, 2, 3]],\n",
       "\n",
       "        [[1, 2, 3],\n",
       "         [1, 2, 3],\n",
       "         [1, 2, 3]],\n",
       "\n",
       "        [[1, 2, 3],\n",
       "         [1, 2, 3],\n",
       "         [1, 2, 3]]],\n",
       "\n",
       "\n",
       "       [[[1, 2, 3],\n",
       "         [1, 2, 3],\n",
       "         [1, 2, 3]],\n",
       "\n",
       "        [[1, 2, 3],\n",
       "         [1, 2, 3],\n",
       "         [1, 2, 3]],\n",
       "\n",
       "        [[1, 2, 3],\n",
       "         [1, 2, 3],\n",
       "         [1, 2, 3]]],\n",
       "\n",
       "\n",
       "       [[[1, 2, 3],\n",
       "         [1, 2, 3],\n",
       "         [1, 2, 3]],\n",
       "\n",
       "        [[1, 2, 3],\n",
       "         [1, 2, 3],\n",
       "         [1, 2, 3]],\n",
       "\n",
       "        [[1, 2, 3],\n",
       "         [1, 2, 3],\n",
       "         [1, 2, 3]]]])"
      ]
     },
     "execution_count": 16,
     "metadata": {},
     "output_type": "execute_result"
    }
   ],
   "source": [
    "ab = np.full((3,3,3,3), [1,2,3])\n",
    "ab"
   ]
  },
  {
   "cell_type": "markdown",
   "id": "6c1acb7e-dd90-448c-b069-490717d2da8c",
   "metadata": {},
   "source": [
    "## Range"
   ]
  },
  {
   "cell_type": "code",
   "execution_count": 17,
   "id": "503fba87-3b5e-4b12-a811-617d436ddd62",
   "metadata": {},
   "outputs": [
    {
     "data": {
      "text/plain": [
       "array([[1, 2, 3],\n",
       "       [4, 5, 6],\n",
       "       [7, 8, 9]])"
      ]
     },
     "execution_count": 17,
     "metadata": {},
     "output_type": "execute_result"
    }
   ],
   "source": [
    "array6 = np.arange(1,10).reshape(3,3)\n",
    "array6"
   ]
  },
  {
   "cell_type": "markdown",
   "id": "5a363a1b-3e73-4474-8816-a4cdf9745fb8",
   "metadata": {},
   "source": [
    "## Diagonal"
   ]
  },
  {
   "cell_type": "code",
   "execution_count": 18,
   "id": "e92dbba8-e7ac-417e-ba32-85147db6dbcf",
   "metadata": {},
   "outputs": [
    {
     "data": {
      "text/plain": [
       "array([['1', '', '', '', ''],\n",
       "       ['', '1', '', '', ''],\n",
       "       ['', '', '1', '', ''],\n",
       "       ['', '', '', '1', ''],\n",
       "       ['', '', '', '', '1']], dtype='<U1')"
      ]
     },
     "execution_count": 18,
     "metadata": {},
     "output_type": "execute_result"
    }
   ],
   "source": [
    "ac = np.identity(5, dtype = 'str') # identity matrix\n",
    "ac"
   ]
  },
  {
   "cell_type": "code",
   "execution_count": 19,
   "id": "20022604-770c-4feb-ae7f-de306e36c85a",
   "metadata": {},
   "outputs": [
    {
     "data": {
      "text/plain": [
       "array([[0., 0., 0.],\n",
       "       [0., 0., 0.],\n",
       "       [0., 0., 0.]])"
      ]
     },
     "execution_count": 19,
     "metadata": {},
     "output_type": "execute_result"
    }
   ],
   "source": [
    "samp1 = np.eye(3, k=5)\n",
    "samp1"
   ]
  },
  {
   "cell_type": "markdown",
   "id": "3cf2b470-c90e-4882-8e0d-785031a2a5ef",
   "metadata": {},
   "source": [
    "## Linespace"
   ]
  },
  {
   "cell_type": "code",
   "execution_count": 20,
   "id": "9e45664a-d634-4854-8192-c01cd13028cc",
   "metadata": {},
   "outputs": [
    {
     "data": {
      "text/plain": [
       "array([[2.        , 2.13333333, 2.26666667],\n",
       "       [2.4       , 2.53333333, 2.66666667],\n",
       "       [2.8       , 2.93333333, 3.06666667],\n",
       "       [3.2       , 3.33333333, 3.46666667],\n",
       "       [3.6       , 3.73333333, 3.86666667],\n",
       "       [4.        , 4.13333333, 4.26666667],\n",
       "       [4.4       , 4.53333333, 4.66666667],\n",
       "       [4.8       , 4.93333333, 5.06666667],\n",
       "       [5.2       , 5.33333333, 5.46666667],\n",
       "       [5.6       , 5.73333333, 5.86666667],\n",
       "       [6.        , 6.13333333, 6.26666667],\n",
       "       [6.4       , 6.53333333, 6.66666667],\n",
       "       [6.8       , 6.93333333, 7.06666667],\n",
       "       [7.2       , 7.33333333, 7.46666667],\n",
       "       [7.6       , 7.73333333, 7.86666667],\n",
       "       [8.        , 8.13333333, 8.26666667],\n",
       "       [8.4       , 8.53333333, 8.66666667],\n",
       "       [8.8       , 8.93333333, 9.06666667],\n",
       "       [9.2       , 9.33333333, 9.46666667],\n",
       "       [9.6       , 9.73333333, 9.86666667]])"
      ]
     },
     "execution_count": 20,
     "metadata": {},
     "output_type": "execute_result"
    }
   ],
   "source": [
    "ad = np.linspace(2, 10, num = 60 , endpoint=False).reshape(20, 3) # Equal gaps inbetween every numbers.\n",
    "ad"
   ]
  },
  {
   "cell_type": "code",
   "execution_count": 21,
   "id": "aad24192-017b-4afc-b8b5-561e00c502a8",
   "metadata": {},
   "outputs": [],
   "source": [
    "l = []\n",
    "\n",
    "#for i in range (1,10):\n",
    "    #int_i = int(input(\"Print:\"))\n",
    "    #l.append(int_i)\n",
    "\n",
    "#sample_array = np.array(l)\n",
    "#sample_array.dtype\n",
    "\n"
   ]
  },
  {
   "cell_type": "code",
   "execution_count": 22,
   "id": "02910329-0f4b-4f2b-a7b8-a71400eafa8e",
   "metadata": {},
   "outputs": [
    {
     "data": {
      "text/plain": [
       "array([[1, 0, 0, 0, 0, 0, 0, 0, 0, 0],\n",
       "       [0, 1, 0, 0, 0, 0, 0, 0, 0, 0],\n",
       "       [0, 0, 1, 0, 0, 0, 0, 0, 0, 0],\n",
       "       [0, 0, 0, 1, 0, 0, 0, 0, 0, 0],\n",
       "       [0, 0, 0, 0, 1, 0, 0, 0, 0, 0],\n",
       "       [0, 0, 0, 0, 0, 1, 0, 0, 0, 0],\n",
       "       [0, 0, 0, 0, 0, 0, 1, 0, 0, 0],\n",
       "       [0, 0, 0, 0, 0, 0, 0, 1, 0, 0],\n",
       "       [0, 0, 0, 0, 0, 0, 0, 0, 1, 0],\n",
       "       [0, 0, 0, 0, 0, 0, 0, 0, 0, 1]])"
      ]
     },
     "execution_count": 22,
     "metadata": {},
     "output_type": "execute_result"
    }
   ],
   "source": [
    "np.identity(10, dtype='int')"
   ]
  },
  {
   "cell_type": "code",
   "execution_count": 23,
   "id": "59281896-0fcd-49c8-8d9d-9e7845603fcd",
   "metadata": {},
   "outputs": [
    {
     "data": {
      "text/plain": [
       "array([[0., 0., 0.],\n",
       "       [0., 0., 0.],\n",
       "       [0., 0., 0.]])"
      ]
     },
     "execution_count": 23,
     "metadata": {},
     "output_type": "execute_result"
    }
   ],
   "source": [
    "np.empty((3,3)) # rows, cols"
   ]
  },
  {
   "cell_type": "code",
   "execution_count": 24,
   "id": "b87c792c-6581-4aa5-aed4-8ee40d3a8207",
   "metadata": {},
   "outputs": [
    {
     "data": {
      "text/plain": [
       "array([[ 1,  3,  5],\n",
       "       [ 7,  9, 11],\n",
       "       [13, 15, 17]])"
      ]
     },
     "execution_count": 24,
     "metadata": {},
     "output_type": "execute_result"
    }
   ],
   "source": [
    "np.arange(1, 19, 2).reshape(3,3) # start, stop, step"
   ]
  },
  {
   "cell_type": "markdown",
   "id": "2f9144ff-99ce-4da3-b4c9-e4dea219ee77",
   "metadata": {},
   "source": [
    "## 🎲 6. Special Library Functions (Random)"
   ]
  },
  {
   "cell_type": "markdown",
   "id": "907e217e-ebfe-4bfb-b966-77879890f512",
   "metadata": {},
   "source": [
    "## rand()\n",
    "Values between 0 to 1"
   ]
  },
  {
   "cell_type": "code",
   "execution_count": 25,
   "id": "f0cae6e0-41e1-4554-9ab9-286b3ec785f6",
   "metadata": {},
   "outputs": [
    {
     "data": {
      "text/plain": [
       "array([0.94870221, 0.05046373, 0.14134055, 0.43477457, 0.5728349 ])"
      ]
     },
     "execution_count": 25,
     "metadata": {},
     "output_type": "execute_result"
    }
   ],
   "source": [
    "np.random.rand(5)"
   ]
  },
  {
   "cell_type": "code",
   "execution_count": 26,
   "id": "228b6f45-114c-4076-932c-7b9839dc9e45",
   "metadata": {},
   "outputs": [
    {
     "data": {
      "text/plain": [
       "array([[0.90008306, 0.43890947, 0.47311721, 0.10146994],\n",
       "       [0.71119603, 0.06422986, 0.80007058, 0.55774021],\n",
       "       [0.33083519, 0.19157667, 0.98654305, 0.57324976],\n",
       "       [0.75444176, 0.82210547, 0.83934691, 0.85105453],\n",
       "       [0.67345614, 0.39446718, 0.21835543, 0.22467196]])"
      ]
     },
     "execution_count": 26,
     "metadata": {},
     "output_type": "execute_result"
    }
   ],
   "source": [
    "np.random.rand(5,4)"
   ]
  },
  {
   "cell_type": "code",
   "execution_count": 27,
   "id": "cc32668e-c146-4d38-9de3-ab449870e2df",
   "metadata": {},
   "outputs": [
    {
     "data": {
      "text/plain": [
       "array([[[[[[[[0.34161484]]]]]]]])"
      ]
     },
     "execution_count": 27,
     "metadata": {},
     "output_type": "execute_result"
    }
   ],
   "source": [
    "np.random.rand(1,1,1,1,1,1,1,1) # 😂❤️👌 8 dimensional array."
   ]
  },
  {
   "cell_type": "markdown",
   "id": "c6757ace-0f54-4a3e-b804-bd1d9ef0e422",
   "metadata": {},
   "source": [
    "## randn()\n",
    "Creates a random value close to zero. ( Might contain both negative and non negative value unlike **Rand**)"
   ]
  },
  {
   "cell_type": "code",
   "execution_count": 28,
   "id": "ee194888-3830-42bb-b011-8eebf9013146",
   "metadata": {},
   "outputs": [
    {
     "data": {
      "text/plain": [
       "array([0.50484132])"
      ]
     },
     "execution_count": 28,
     "metadata": {},
     "output_type": "execute_result"
    }
   ],
   "source": [
    "np.random.randn(1)"
   ]
  },
  {
   "cell_type": "code",
   "execution_count": 29,
   "id": "2c830f2d-759a-476d-b941-858310cb9e9c",
   "metadata": {},
   "outputs": [
    {
     "data": {
      "text/plain": [
       "array([[2.32244758, 0.38      ]])"
      ]
     },
     "execution_count": 29,
     "metadata": {},
     "output_type": "execute_result"
    }
   ],
   "source": [
    "np.random.randn(1,2)"
   ]
  },
  {
   "cell_type": "code",
   "execution_count": 30,
   "id": "3985bc56-6de0-45ed-842f-e54d06ea33f3",
   "metadata": {},
   "outputs": [
    {
     "data": {
      "text/plain": [
       "array([[[-1.07391219, -1.52957598,  0.23605041,  0.48377374,\n",
       "          2.01487955,  0.29247501],\n",
       "        [-0.09837397, -0.69754849, -1.21391026, -1.47772567,\n",
       "          0.74974482,  2.81968191]],\n",
       "\n",
       "       [[ 1.02517972, -1.83448742, -0.88762105,  0.40556122,\n",
       "          0.20427586,  0.80592746],\n",
       "        [-0.52370624, -1.02211778,  0.54760667,  0.17249815,\n",
       "         -0.52902522, -0.57721026]]])"
      ]
     },
     "execution_count": 30,
     "metadata": {},
     "output_type": "execute_result"
    }
   ],
   "source": [
    "np.random.randn(2,2,6)"
   ]
  },
  {
   "cell_type": "markdown",
   "id": "b725bef6-329f-4641-99d5-1cf813436ab7",
   "metadata": {},
   "source": [
    "## ranf()\n",
    "Float numbers containing [0.0 to 1.0).\n",
    "- It states that 0.0 is contained.\n",
    "- All numbers within 1 are contained.\n",
    "- But 1 is not contained."
   ]
  },
  {
   "cell_type": "code",
   "execution_count": 31,
   "id": "c0abf54c-6865-4d24-8ddf-2a59c91700ef",
   "metadata": {},
   "outputs": [
    {
     "data": {
      "text/plain": [
       "array([[[0.76717731, 0.629125  , 0.5860593 ],\n",
       "        [0.7109983 , 0.70085037, 0.68185264]]])"
      ]
     },
     "execution_count": 31,
     "metadata": {},
     "output_type": "execute_result"
    }
   ],
   "source": [
    "np.random.ranf([1,2,3])"
   ]
  },
  {
   "cell_type": "code",
   "execution_count": 32,
   "id": "764eeb45-368e-4bee-8751-4c6be2390834",
   "metadata": {},
   "outputs": [
    {
     "data": {
      "text/plain": [
       "array([[0.33794877, 0.159859  , 0.57868473],\n",
       "       [0.43125353, 0.21420017, 0.82401041]])"
      ]
     },
     "execution_count": 32,
     "metadata": {},
     "output_type": "execute_result"
    }
   ],
   "source": [
    "np.random.ranf(size=(2,3))"
   ]
  },
  {
   "cell_type": "markdown",
   "id": "41cc8089-07bf-424f-9504-5691ed8a6307",
   "metadata": {},
   "source": [
    "## randint()\n",
    "This function generates random numbers between given range"
   ]
  },
  {
   "cell_type": "code",
   "execution_count": 33,
   "id": "7c9c9704-a37b-4008-b898-e76e239849ca",
   "metadata": {},
   "outputs": [
    {
     "data": {
      "text/plain": [
       "array([[2, 2, 2],\n",
       "       [3, 3, 1]], dtype=int32)"
      ]
     },
     "execution_count": 33,
     "metadata": {},
     "output_type": "execute_result"
    }
   ],
   "source": [
    "np.random.randint(1,4,(2,3))"
   ]
  },
  {
   "cell_type": "code",
   "execution_count": 34,
   "id": "98a29d41-e9c8-4e9c-867e-51cc73582f1d",
   "metadata": {},
   "outputs": [
    {
     "data": {
      "text/plain": [
       "array([[6, 7, 7],\n",
       "       [9, 7, 3],\n",
       "       [2, 5, 1]], dtype=int32)"
      ]
     },
     "execution_count": 34,
     "metadata": {},
     "output_type": "execute_result"
    }
   ],
   "source": [
    "np.random.randint(1,10, (3,3))"
   ]
  },
  {
   "cell_type": "code",
   "execution_count": 35,
   "id": "06563b23-7c34-4938-84ae-89eddad65e02",
   "metadata": {},
   "outputs": [
    {
     "data": {
      "text/plain": [
       "array([[[39, 78,  6],\n",
       "        [52, 86,  9],\n",
       "        [48, 41, 35]],\n",
       "\n",
       "       [[14, 67, 51],\n",
       "        [30, 82, 91],\n",
       "        [78, 91,  1]],\n",
       "\n",
       "       [[19, 12, 47],\n",
       "        [43, 81, 45],\n",
       "        [48, 48, 42]]], dtype=int32)"
      ]
     },
     "execution_count": 35,
     "metadata": {},
     "output_type": "execute_result"
    }
   ],
   "source": [
    "np.random.randint(1,100, (3,3,3))"
   ]
  }
 ],
 "metadata": {
  "kernelspec": {
   "display_name": "ML",
   "language": "python",
   "name": "python3"
  },
  "language_info": {
   "codemirror_mode": {
    "name": "ipython",
    "version": 3
   },
   "file_extension": ".py",
   "mimetype": "text/x-python",
   "name": "python",
   "nbconvert_exporter": "python",
   "pygments_lexer": "ipython3",
   "version": "3.13.5"
  }
 },
 "nbformat": 4,
 "nbformat_minor": 5
}
