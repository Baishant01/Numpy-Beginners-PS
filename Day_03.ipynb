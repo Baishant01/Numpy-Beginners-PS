{
 "cells": [
  {
   "cell_type": "markdown",
   "id": "a71fc023-e2f2-47f3-b474-74418a76a6ca",
   "metadata": {},
   "source": [
    "## Arithmetic operations in numpy\n",
    "🔢 Core Arithmetic Functions in NumPy\n",
    "These are the main arithmetic functions available in NumPy:\n",
    "|  |  |  | \n",
    "\n",
    "| np.add(x, y) | x + y |  | \n",
    "\n",
    "| np.subtract(x, y) | x - y |  | \n",
    "\n",
    "| np.multiply(x, y) | x * y |  | \n",
    "\n",
    "| np.divide(x, y) | x / y |  | \n",
    "\n",
    "| np.floor_divide(x, y) | x // y |  | \n",
    "\n",
    "| np.mod(x, y) | x % y |  | \n",
    "\n",
    "| np.power(x, y) | x ** y |  | \n",
    "\n",
    "| np.remainder(x, y) | mod |  | \n",
    "\n",
    "| np.fmod(x, y) |  |  | \n",
    "\n",
    "| np.divmod(x, y) |  |  | \n",
    "\n",
    "\n",
    "***\n",
    "\n"
   ]
  },
  {
   "cell_type": "code",
   "execution_count": 3,
   "id": "151d7756-edae-42eb-affa-68f1eefffc3b",
   "metadata": {},
   "outputs": [],
   "source": [
    "import numpy as np"
   ]
  },
  {
   "cell_type": "markdown",
   "id": "811d8cbe-e666-4c13-a6d2-c9e020a33400",
   "metadata": {},
   "source": [
    "## Applying arithmetic operations arrays before diving deep into functions:"
   ]
  },
  {
   "cell_type": "markdown",
   "id": "ff43597e-9d24-4c2f-9a8c-471e26a9cd5f",
   "metadata": {},
   "source": [
    "### Arithmetic operations by some integer literals"
   ]
  },
  {
   "cell_type": "code",
   "execution_count": 6,
   "id": "92dc302e-aaff-4cfb-bec5-b6d6c81bde98",
   "metadata": {},
   "outputs": [
    {
     "data": {
      "text/plain": [
       "array([4, 5, 6, 7])"
      ]
     },
     "execution_count": 6,
     "metadata": {},
     "output_type": "execute_result"
    }
   ],
   "source": [
    "eg_1 =  np.array([1, 2, 3, 4])\n",
    "\n",
    "eg_1 + 3"
   ]
  },
  {
   "cell_type": "code",
   "execution_count": 8,
   "id": "b8759ce6-651f-44cf-a88e-d92e14361ab7",
   "metadata": {},
   "outputs": [
    {
     "data": {
      "text/plain": [
       "array([ 3,  6,  9, 12])"
      ]
     },
     "execution_count": 8,
     "metadata": {},
     "output_type": "execute_result"
    }
   ],
   "source": [
    "eg_1 * 3"
   ]
  },
  {
   "cell_type": "code",
   "execution_count": 9,
   "id": "addc7f76-a442-495f-a8d5-f4d992438afc",
   "metadata": {},
   "outputs": [
    {
     "data": {
      "text/plain": [
       "array([0, 0, 1, 1])"
      ]
     },
     "execution_count": 9,
     "metadata": {},
     "output_type": "execute_result"
    }
   ],
   "source": [
    "eg_1 // 3"
   ]
  },
  {
   "cell_type": "code",
   "execution_count": 10,
   "id": "d30bdc5d-1e2d-4187-bcce-5e3aa5a17df1",
   "metadata": {},
   "outputs": [
    {
     "data": {
      "text/plain": [
       "array([0.33333333, 0.66666667, 1.        , 1.33333333])"
      ]
     },
     "execution_count": 10,
     "metadata": {},
     "output_type": "execute_result"
    }
   ],
   "source": [
    "eg_1 / 3"
   ]
  },
  {
   "cell_type": "code",
   "execution_count": 12,
   "id": "65099e81-ab35-48c0-b7b9-c33964847a16",
   "metadata": {},
   "outputs": [
    {
     "data": {
      "text/plain": [
       "array([ 1,  8, 27, 64])"
      ]
     },
     "execution_count": 12,
     "metadata": {},
     "output_type": "execute_result"
    }
   ],
   "source": [
    "eg_1 ** 3"
   ]
  },
  {
   "cell_type": "code",
   "execution_count": 15,
   "id": "8da1f164-4a03-4e8d-9a41-f422c09afaf6",
   "metadata": {},
   "outputs": [
    {
     "data": {
      "text/plain": [
       "array([1, 0, 1, 0])"
      ]
     },
     "execution_count": 15,
     "metadata": {},
     "output_type": "execute_result"
    }
   ],
   "source": [
    "eg_1 % 2"
   ]
  },
  {
   "cell_type": "code",
   "execution_count": 16,
   "id": "937d728c-0849-44f6-b2ac-7153f8fec4e4",
   "metadata": {},
   "outputs": [
    {
     "data": {
      "text/plain": [
       "array([-4, -3, -2, -1])"
      ]
     },
     "execution_count": 16,
     "metadata": {},
     "output_type": "execute_result"
    }
   ],
   "source": [
    "eg_1 - 5"
   ]
  },
  {
   "cell_type": "markdown",
   "id": "ecc6e8a0-151d-4025-add0-5fd05d2e9d9a",
   "metadata": {},
   "source": [
    "\n",
    "### Arithmetic operation based on 2 or more arrays"
   ]
  },
  {
   "cell_type": "code",
   "execution_count": 20,
   "id": "342347e7-3065-4f8e-aa7c-d3335e908905",
   "metadata": {},
   "outputs": [],
   "source": [
    "eg_2 = np.array([1, 2, 3, 3])\n"
   ]
  },
  {
   "cell_type": "code",
   "execution_count": 21,
   "id": "e5997c3b-121f-413e-b5cf-6fd66fb1355f",
   "metadata": {},
   "outputs": [
    {
     "data": {
      "text/plain": [
       "array([2, 4, 6, 7])"
      ]
     },
     "execution_count": 21,
     "metadata": {},
     "output_type": "execute_result"
    }
   ],
   "source": [
    "eg_1 + eg_2"
   ]
  },
  {
   "cell_type": "code",
   "execution_count": 23,
   "id": "f4fb7164-9d3f-4aae-845d-0e9ce397617b",
   "metadata": {},
   "outputs": [
    {
     "data": {
      "text/plain": [
       "array([0, 0, 0, 1])"
      ]
     },
     "execution_count": 23,
     "metadata": {},
     "output_type": "execute_result"
    }
   ],
   "source": [
    "eg_1 - eg_2"
   ]
  },
  {
   "cell_type": "code",
   "execution_count": 24,
   "id": "d6798055-9a71-4fe6-b7d5-0f34a05927e8",
   "metadata": {},
   "outputs": [
    {
     "data": {
      "text/plain": [
       "array([ 1,  4,  9, 12])"
      ]
     },
     "execution_count": 24,
     "metadata": {},
     "output_type": "execute_result"
    }
   ],
   "source": [
    "eg_1 * eg_2"
   ]
  },
  {
   "cell_type": "code",
   "execution_count": 25,
   "id": "b58a918e-0be5-4412-95b4-10b2e082a12f",
   "metadata": {},
   "outputs": [
    {
     "data": {
      "text/plain": [
       "array([1, 1, 1, 1])"
      ]
     },
     "execution_count": 25,
     "metadata": {},
     "output_type": "execute_result"
    }
   ],
   "source": [
    "eg_1 // eg_2"
   ]
  },
  {
   "cell_type": "code",
   "execution_count": 26,
   "id": "bcc7e326-ebe0-4bef-8191-a129d08945d5",
   "metadata": {},
   "outputs": [
    {
     "data": {
      "text/plain": [
       "array([0, 0, 0, 1])"
      ]
     },
     "execution_count": 26,
     "metadata": {},
     "output_type": "execute_result"
    }
   ],
   "source": [
    "eg_1 % eg_2"
   ]
  },
  {
   "cell_type": "code",
   "execution_count": 31,
   "id": "f8b3c9fd-3d63-4392-8779-53cf567224ea",
   "metadata": {},
   "outputs": [],
   "source": [
    "#eg_3 = np.array([1,2,3,4,5])\n",
    "#eg_1 + eg_3  It gives value error as the shape of matrix performing arithmetic operations should be same."
   ]
  },
  {
   "cell_type": "code",
   "execution_count": 48,
   "id": "e4f00769-89db-497f-84cf-66d86cd9e4fc",
   "metadata": {},
   "outputs": [],
   "source": [
    "eg_1_2d = np.array(\n",
    "    [[2,3],\n",
    "    [4,5]]\n",
    ")\n",
    "eg_2_2d = np.array(\n",
    "    [[2,3],\n",
    "    [4,5]]\n",
    ")\n"
   ]
  },
  {
   "cell_type": "code",
   "execution_count": 50,
   "id": "842c76a0-78ee-4382-b81a-2fa6d86df090",
   "metadata": {},
   "outputs": [
    {
     "data": {
      "text/plain": [
       "array([[ 4,  6],\n",
       "       [ 8, 10]])"
      ]
     },
     "execution_count": 50,
     "metadata": {},
     "output_type": "execute_result"
    }
   ],
   "source": [
    "eg_1_2d + eg_2_2d"
   ]
  },
  {
   "cell_type": "code",
   "execution_count": 56,
   "id": "24b091e4-8ced-4752-a198-e37aa10bcdc4",
   "metadata": {},
   "outputs": [
    {
     "data": {
      "text/plain": [
       "array([[[1., 1., 1.],\n",
       "        [1., 1., 1.],\n",
       "        [1., 1., 1.]],\n",
       "\n",
       "       [[1., 1., 1.],\n",
       "        [1., 1., 1.],\n",
       "        [1., 1., 1.]]])"
      ]
     },
     "execution_count": 56,
     "metadata": {},
     "output_type": "execute_result"
    }
   ],
   "source": [
    "eg_1_3d = np.array([\n",
    "    [[2,3,4],\n",
    "    [1,4,5],\n",
    "    [1,1,1]],\n",
    "\n",
    "    [[2,3,4],\n",
    "    [1,4,5],\n",
    "    [1,1,1]]\n",
    "\n",
    "])\n",
    "eg_2_3d = np.array([\n",
    "    [[2,3,4],\n",
    "    [1,4,5],\n",
    "    [1,1,1]],\n",
    "\n",
    "    [[2,3,4],\n",
    "    [1,4,5],\n",
    "    [1,1,1]]\n",
    "\n",
    "])\n",
    "eg_1_3d / eg_2_3d\n",
    "    "
   ]
  },
  {
   "cell_type": "markdown",
   "id": "1e64e86b-24cb-4132-ac38-dc95ccbe2b0d",
   "metadata": {},
   "source": [
    "---\n",
    "## Diving into functions used to perform Arithmetic operations"
   ]
  },
  {
   "cell_type": "markdown",
   "id": "397a3702-50a7-44c8-94c2-2752c3967fc8",
   "metadata": {},
   "source": [
    "### add():"
   ]
  },
  {
   "cell_type": "code",
   "execution_count": 59,
   "id": "39741598-6c69-41cc-9676-2b8cfd96ce6c",
   "metadata": {},
   "outputs": [
    {
     "name": "stdout",
     "output_type": "stream",
     "text": [
      "[5 7 9]\n"
     ]
    }
   ],
   "source": [
    "a = np.array([1,2,3])\n",
    "b = np.array([4,5,6])\n",
    "\n",
    "print(np.add(a, b))"
   ]
  },
  {
   "cell_type": "code",
   "execution_count": 60,
   "id": "496bc190-70b2-4052-bdb1-9d7fdf8ff580",
   "metadata": {},
   "outputs": [
    {
     "name": "stdout",
     "output_type": "stream",
     "text": [
      "[[ 2  4  6]\n",
      " [ 8 10 12]]\n"
     ]
    }
   ],
   "source": [
    "c = np.array(\n",
    "    [\n",
    "        [1,2,3],\n",
    "        [4,5,6]\n",
    "    ])\n",
    "\n",
    "d = np.array(\n",
    "    [\n",
    "        [1,2,3],\n",
    "        [4,5,6]\n",
    "    ])\n",
    "\n",
    "print(np.add(c, d))\n"
   ]
  },
  {
   "cell_type": "code",
   "execution_count": 68,
   "id": "de5fb180-a1ef-4a20-8345-10b6f29bd206",
   "metadata": {},
   "outputs": [
    {
     "name": "stdout",
     "output_type": "stream",
     "text": [
      "[[[ 2  4  6]\n",
      "  [ 8 10 12]]\n",
      "\n",
      " [[ 2  4  6]\n",
      "  [ 8 10 12]]\n",
      "\n",
      " [[ 2  4  6]\n",
      "  [ 8 10 12]]]\n"
     ]
    }
   ],
   "source": [
    "e = np.array(\n",
    "    [\n",
    "        [\n",
    "            [1,2,3],\n",
    "            [4,5,6]\n",
    "        ],\n",
    "        \n",
    "        [   [1,2,3],\n",
    "            [4,5,6]\n",
    "        ],      \n",
    "        \n",
    "        [   [1,2,3],\n",
    "            [4,5,6]\n",
    "        ],\n",
    "        \n",
    "    ])\n",
    "\n",
    "f = np.array(\n",
    "    [\n",
    "        [\n",
    "            [1,2,3],\n",
    "            [4,5,6]\n",
    "        ],\n",
    "        \n",
    "        [   [1,2,3],\n",
    "            [4,5,6]\n",
    "        ],      \n",
    "        \n",
    "        [   [1,2,3],\n",
    "            [4,5,6]\n",
    "        ],\n",
    "        \n",
    "    ])\n",
    "\n",
    "#g = np.array(\n",
    " #   [\n",
    " #       [\n",
    " #           [1,2,3],\n",
    " #           [4,5,6]\n",
    " #       ],\n",
    " #       \n",
    " #       [   [1,2,3],\n",
    " #           [4,5,6]\n",
    " #       ],      \n",
    " #       \n",
    " #       [   [1,2,3],\n",
    " #           [4,5,6]\n",
    " #       ],\n",
    " #       \n",
    " #   ])\n",
    "#\n",
    "\n",
    "print(np.add(e,f)) # only 2 arguments are valid\n"
   ]
  },
  {
   "cell_type": "markdown",
   "id": "207d768a-dbc2-404c-8143-c42c18ff024e",
   "metadata": {},
   "source": [
    "## np.subtract():"
   ]
  },
  {
   "cell_type": "code",
   "execution_count": 70,
   "id": "18df7875-dbe5-4e8f-99b8-816a29788beb",
   "metadata": {},
   "outputs": [
    {
     "data": {
      "text/plain": [
       "array([-3, -3, -3])"
      ]
     },
     "execution_count": 70,
     "metadata": {},
     "output_type": "execute_result"
    }
   ],
   "source": [
    "a = np.array([1,2,3])\n",
    "b = np.array([4,5,6])\n",
    "\n",
    "\n",
    "np.subtract(a, b)"
   ]
  },
  {
   "cell_type": "code",
   "execution_count": 71,
   "id": "e142b60c-2b21-4406-a5d5-e8681b06719f",
   "metadata": {},
   "outputs": [
    {
     "data": {
      "text/plain": [
       "array([[0, 0, 0],\n",
       "       [0, 0, 0]])"
      ]
     },
     "execution_count": 71,
     "metadata": {},
     "output_type": "execute_result"
    }
   ],
   "source": [
    "c = np.array(\n",
    "    [\n",
    "        [1,2,3],\n",
    "        [4,5,6]\n",
    "    ])\n",
    "\n",
    "d = np.array(\n",
    "    [\n",
    "        [1,2,3],\n",
    "        [4,5,6]\n",
    "    ])\n",
    "np.subtract(c, d)"
   ]
  },
  {
   "cell_type": "code",
   "execution_count": 72,
   "id": "7bf483e3-6af4-43b4-ad31-a4765cd88624",
   "metadata": {},
   "outputs": [
    {
     "data": {
      "text/plain": [
       "array([[[0, 0, 0],\n",
       "        [0, 0, 0]],\n",
       "\n",
       "       [[0, 0, 0],\n",
       "        [0, 0, 0]],\n",
       "\n",
       "       [[0, 0, 0],\n",
       "        [0, 0, 0]]])"
      ]
     },
     "execution_count": 72,
     "metadata": {},
     "output_type": "execute_result"
    }
   ],
   "source": [
    "e = np.array(\n",
    "    [\n",
    "        [\n",
    "            [1,2,3],\n",
    "            [4,5,6]\n",
    "        ],\n",
    "        \n",
    "        [   [1,2,3],\n",
    "            [4,5,6]\n",
    "        ],      \n",
    "        \n",
    "        [   [1,2,3],\n",
    "            [4,5,6]\n",
    "        ],\n",
    "        \n",
    "    ])\n",
    "\n",
    "f = np.array(\n",
    "    [\n",
    "        [\n",
    "            [1,2,3],\n",
    "            [4,5,6]\n",
    "        ],\n",
    "        \n",
    "        [   [1,2,3],\n",
    "            [4,5,6]\n",
    "        ],      \n",
    "        \n",
    "        [   [1,2,3],\n",
    "            [4,5,6]\n",
    "        ],\n",
    "        \n",
    "    ])\n",
    "\n",
    "np.subtract(e, f)"
   ]
  },
  {
   "cell_type": "markdown",
   "id": "ddc165d5-ec0b-4c46-82c7-0547927bb43e",
   "metadata": {},
   "source": [
    "## np.multiply():"
   ]
  },
  {
   "cell_type": "code",
   "execution_count": 74,
   "id": "9a40a8ad-dba5-45c8-af49-44e6ddb8fb88",
   "metadata": {},
   "outputs": [
    {
     "name": "stdout",
     "output_type": "stream",
     "text": [
      "[ 4 10 18]\n"
     ]
    }
   ],
   "source": [
    "a = np.array([1,2,3])\n",
    "b = np.array([4,5,6])\n",
    "\n",
    "print(np.multiply(a, b))"
   ]
  },
  {
   "cell_type": "code",
   "execution_count": 75,
   "id": "8851b421-21ee-4e69-b0c1-2d95d08cc944",
   "metadata": {},
   "outputs": [
    {
     "data": {
      "text/plain": [
       "array([[ 1,  4,  9],\n",
       "       [16, 25, 36]])"
      ]
     },
     "execution_count": 75,
     "metadata": {},
     "output_type": "execute_result"
    }
   ],
   "source": [
    "c = np.array(\n",
    "    [\n",
    "        [1,2,3],\n",
    "        [4,5,6]\n",
    "    ])\n",
    "\n",
    "d = np.array(\n",
    "    [\n",
    "        [1,2,3],\n",
    "        [4,5,6]\n",
    "    ])\n",
    "np.multiply(c, d)"
   ]
  },
  {
   "cell_type": "code",
   "execution_count": 76,
   "id": "34d222d6-50c8-4bf2-93b2-5f0433cc1a17",
   "metadata": {},
   "outputs": [
    {
     "data": {
      "text/plain": [
       "array([[[0, 0, 0],\n",
       "        [0, 0, 0]],\n",
       "\n",
       "       [[0, 0, 0],\n",
       "        [0, 0, 0]],\n",
       "\n",
       "       [[0, 0, 0],\n",
       "        [0, 0, 0]]])"
      ]
     },
     "execution_count": 76,
     "metadata": {},
     "output_type": "execute_result"
    }
   ],
   "source": [
    "e = np.array(\n",
    "    [\n",
    "        [\n",
    "            [1,2,3],\n",
    "            [4,5,6]\n",
    "        ],\n",
    "        \n",
    "        [   [1,2,3],\n",
    "            [4,5,6]\n",
    "        ],      \n",
    "        \n",
    "        [   [1,2,3],\n",
    "            [4,5,6]\n",
    "        ],\n",
    "        \n",
    "    ])\n",
    "\n",
    "f = np.array(\n",
    "    [\n",
    "        [\n",
    "            [1,2,3],\n",
    "            [4,5,6]\n",
    "        ],\n",
    "        \n",
    "        [   [1,2,3],\n",
    "            [4,5,6]\n",
    "        ],      \n",
    "        \n",
    "        [   [1,2,3],\n",
    "            [4,5,6]\n",
    "        ],\n",
    "        \n",
    "    ])\n",
    "\n",
    "np.subtract(e, f)"
   ]
  },
  {
   "cell_type": "markdown",
   "id": "be53d498-b06b-4ddc-b2ef-e6af24a04aab",
   "metadata": {},
   "source": [
    "## np.divide():"
   ]
  },
  {
   "cell_type": "code",
   "execution_count": 78,
   "id": "e50abe41-984f-4428-91aa-13aa93264fa4",
   "metadata": {},
   "outputs": [
    {
     "name": "stdout",
     "output_type": "stream",
     "text": [
      "[0.25 0.4  0.5 ]\n"
     ]
    }
   ],
   "source": [
    "a = np.array([1,2,3])\n",
    "b = np.array([4,5,6])\n",
    "\n",
    "print(np.divide(a, b))"
   ]
  },
  {
   "cell_type": "code",
   "execution_count": 79,
   "id": "2cb002c0-ebfd-4a92-b0bf-6b21acd13fd8",
   "metadata": {},
   "outputs": [
    {
     "data": {
      "text/plain": [
       "array([[1., 1., 1.],\n",
       "       [1., 1., 1.]])"
      ]
     },
     "execution_count": 79,
     "metadata": {},
     "output_type": "execute_result"
    }
   ],
   "source": [
    "c = np.array(\n",
    "    [\n",
    "        [1,2,3],\n",
    "        [4,5,6]\n",
    "    ])\n",
    "\n",
    "d = np.array(\n",
    "    [\n",
    "        [1,2,3],\n",
    "        [4,5,6]\n",
    "    ])\n",
    "np.divide(c, d)"
   ]
  },
  {
   "cell_type": "code",
   "execution_count": 80,
   "id": "0a760319-ec32-4810-af63-d27499fc1251",
   "metadata": {},
   "outputs": [
    {
     "data": {
      "text/plain": [
       "array([[[1., 1., 1.],\n",
       "        [1., 1., 1.]],\n",
       "\n",
       "       [[1., 1., 1.],\n",
       "        [1., 1., 1.]],\n",
       "\n",
       "       [[1., 1., 1.],\n",
       "        [1., 1., 1.]]])"
      ]
     },
     "execution_count": 80,
     "metadata": {},
     "output_type": "execute_result"
    }
   ],
   "source": [
    "e = np.array(\n",
    "    [\n",
    "        [\n",
    "            [1,2,3],\n",
    "            [4,5,6]\n",
    "        ],\n",
    "        \n",
    "        [   [1,2,3],\n",
    "            [4,5,6]\n",
    "        ],      \n",
    "        \n",
    "        [   [1,2,3],\n",
    "            [4,5,6]\n",
    "        ],\n",
    "        \n",
    "    ])\n",
    "\n",
    "f = np.array(\n",
    "    [\n",
    "        [\n",
    "            [1,2,3],\n",
    "            [4,5,6]\n",
    "        ],\n",
    "        \n",
    "        [   [1,2,3],\n",
    "            [4,5,6]\n",
    "        ],      \n",
    "        \n",
    "        [   [1,2,3],\n",
    "            [4,5,6]\n",
    "        ],\n",
    "        \n",
    "    ])\n",
    "\n",
    "np.divide(e, f)"
   ]
  },
  {
   "cell_type": "markdown",
   "id": "01266f2f-7718-47d9-ba9d-d8769d4ddfe3",
   "metadata": {},
   "source": [
    "## np.floor_divide():"
   ]
  },
  {
   "cell_type": "code",
   "execution_count": 81,
   "id": "a8d91802-4c61-44b3-9843-c3d6dda793ab",
   "metadata": {},
   "outputs": [
    {
     "name": "stdout",
     "output_type": "stream",
     "text": [
      "[0 0 0]\n"
     ]
    }
   ],
   "source": [
    "a = np.array([1,2,3])\n",
    "b = np.array([4,5,6])\n",
    "\n",
    "print(np.floor_divide(a, b))"
   ]
  },
  {
   "cell_type": "code",
   "execution_count": 82,
   "id": "82fe2b46-952f-492a-94fb-f9924b01d886",
   "metadata": {},
   "outputs": [
    {
     "data": {
      "text/plain": [
       "array([[1, 1, 1],\n",
       "       [1, 1, 1]])"
      ]
     },
     "execution_count": 82,
     "metadata": {},
     "output_type": "execute_result"
    }
   ],
   "source": [
    "c = np.array(\n",
    "    [\n",
    "        [1,2,3],\n",
    "        [4,5,6]\n",
    "    ])\n",
    "\n",
    "d = np.array(\n",
    "    [\n",
    "        [1,2,3],\n",
    "        [4,5,6]\n",
    "    ])\n",
    "np.floor_divide(c, d)"
   ]
  },
  {
   "cell_type": "code",
   "execution_count": 83,
   "id": "62db0bc5-6add-4c19-9e0a-d531d6b3f5ed",
   "metadata": {},
   "outputs": [
    {
     "data": {
      "text/plain": [
       "array([[[1, 1, 1],\n",
       "        [1, 1, 1]],\n",
       "\n",
       "       [[1, 1, 1],\n",
       "        [1, 1, 1]],\n",
       "\n",
       "       [[1, 1, 1],\n",
       "        [1, 1, 1]]])"
      ]
     },
     "execution_count": 83,
     "metadata": {},
     "output_type": "execute_result"
    }
   ],
   "source": [
    "e = np.array(\n",
    "    [\n",
    "        [\n",
    "            [1,2,3],\n",
    "            [4,5,6]\n",
    "        ],\n",
    "        \n",
    "        [   [1,2,3],\n",
    "            [4,5,6]\n",
    "        ],      \n",
    "        \n",
    "        [   [1,2,3],\n",
    "            [4,5,6]\n",
    "        ],\n",
    "        \n",
    "    ])\n",
    "\n",
    "f = np.array(\n",
    "    [\n",
    "        [\n",
    "            [1,2,3],\n",
    "            [4,5,6]\n",
    "        ],\n",
    "        \n",
    "        [   [1,2,3],\n",
    "            [4,5,6]\n",
    "        ],      \n",
    "        \n",
    "        [   [1,2,3],\n",
    "            [4,5,6]\n",
    "        ],\n",
    "        \n",
    "    ])\n",
    "\n",
    "np.floor_divide(e, f)"
   ]
  },
  {
   "cell_type": "markdown",
   "id": "56ed4277-c5d4-40d4-8dca-7afc1d4818d2",
   "metadata": {},
   "source": [
    "## np.mod():"
   ]
  },
  {
   "cell_type": "markdown",
   "id": "3ee845dc-efe9-4381-8b27-3acafb770536",
   "metadata": {},
   "source": [
    "* It applies Euclidean remainder instead of truncated remainder. As **mod** is known as euclidean remainder.\n",
    "  \n",
    "-- using dividend = divisor * quotient + remainder\n",
    "\n",
    "-- In this case, to find remainder:\n",
    "-- remainder = dividend - (divisor * quotient) \n",
    "\n",
    "  $$\n",
    "        -7 \\bmod 3 = -7 - (-3 \\times 3) = 2\n",
    "    $$\n",
    "\n"
   ]
  },
  {
   "cell_type": "code",
   "execution_count": 91,
   "id": "49f6177d-891d-4a8e-afb2-6a1003dffe3b",
   "metadata": {},
   "outputs": [
    {
     "name": "stdout",
     "output_type": "stream",
     "text": [
      "2\n"
     ]
    }
   ],
   "source": [
    "print(np.mod(-7, 3))        # ➜ 2\n"
   ]
  },
  {
   "cell_type": "code",
   "execution_count": 84,
   "id": "796ad078-0a86-4362-8428-0e6d600ceca5",
   "metadata": {},
   "outputs": [
    {
     "name": "stdout",
     "output_type": "stream",
     "text": [
      "[1 2 3]\n"
     ]
    }
   ],
   "source": [
    "a = np.array([1,2,3])\n",
    "b = np.array([4,5,6])\n",
    "\n",
    "print(np.mod(a, b))"
   ]
  },
  {
   "cell_type": "code",
   "execution_count": 85,
   "id": "03b71443-4e66-42b8-b4dc-65360c2b454a",
   "metadata": {},
   "outputs": [
    {
     "data": {
      "text/plain": [
       "array([[0, 0, 0],\n",
       "       [0, 0, 0]])"
      ]
     },
     "execution_count": 85,
     "metadata": {},
     "output_type": "execute_result"
    }
   ],
   "source": [
    "c = np.array(\n",
    "    [\n",
    "        [1,2,3],\n",
    "        [4,5,6]\n",
    "    ])\n",
    "\n",
    "d = np.array(\n",
    "    [\n",
    "        [1,2,3],\n",
    "        [4,5,6]\n",
    "    ])\n",
    "np.mod(c, d)"
   ]
  },
  {
   "cell_type": "code",
   "execution_count": 86,
   "id": "91f97414-675d-4c33-9bf9-2c310264c9d7",
   "metadata": {},
   "outputs": [
    {
     "data": {
      "text/plain": [
       "array([[[0, 0, 0],\n",
       "        [0, 0, 0]],\n",
       "\n",
       "       [[0, 0, 0],\n",
       "        [0, 0, 0]],\n",
       "\n",
       "       [[0, 0, 0],\n",
       "        [0, 0, 0]]])"
      ]
     },
     "execution_count": 86,
     "metadata": {},
     "output_type": "execute_result"
    }
   ],
   "source": [
    "e = np.array(\n",
    "    [\n",
    "        [\n",
    "            [1,2,3],\n",
    "            [4,5,6]\n",
    "        ],\n",
    "        \n",
    "        [   [1,2,3],\n",
    "            [4,5,6]\n",
    "        ],      \n",
    "        \n",
    "        [   [1,2,3],\n",
    "            [4,5,6]\n",
    "        ],\n",
    "        \n",
    "    ])\n",
    "\n",
    "f = np.array(\n",
    "    [\n",
    "        [\n",
    "            [1,2,3],\n",
    "            [4,5,6]\n",
    "        ],\n",
    "        \n",
    "        [   [1,2,3],\n",
    "            [4,5,6]\n",
    "        ],      \n",
    "        \n",
    "        [   [1,2,3],\n",
    "            [4,5,6]\n",
    "        ],\n",
    "        \n",
    "    ])\n",
    "\n",
    "np.mod(e, f)"
   ]
  },
  {
   "cell_type": "markdown",
   "id": "fb184f29-a768-44b8-bece-cbbd836d8e75",
   "metadata": {},
   "source": [
    "## np.remainder():"
   ]
  },
  {
   "cell_type": "code",
   "execution_count": 87,
   "id": "9ddaf757-0088-4294-b144-d9ba1ac7749b",
   "metadata": {},
   "outputs": [
    {
     "name": "stdout",
     "output_type": "stream",
     "text": [
      "[1 2 3]\n"
     ]
    }
   ],
   "source": [
    "a = np.array([1,2,3])\n",
    "b = np.array([4,5,6])\n",
    "\n",
    "print(np.remainder(a, b))"
   ]
  },
  {
   "cell_type": "code",
   "execution_count": 92,
   "id": "440e53be-f619-4144-9e41-b127a4839293",
   "metadata": {},
   "outputs": [
    {
     "data": {
      "text/plain": [
       "array([[0, 0, 0],\n",
       "       [0, 0, 0]])"
      ]
     },
     "execution_count": 92,
     "metadata": {},
     "output_type": "execute_result"
    }
   ],
   "source": [
    "c = np.array(\n",
    "    [\n",
    "        [1,2,3],\n",
    "        [4,5,6]\n",
    "    ])\n",
    "\n",
    "d = np.array(\n",
    "    [\n",
    "        [1,2,3],\n",
    "        [4,5,6]\n",
    "    ])\n",
    "np.remainder(c, d)"
   ]
  },
  {
   "cell_type": "code",
   "execution_count": 93,
   "id": "575cf1b9-5962-47ed-a446-23e8f1c8aa73",
   "metadata": {},
   "outputs": [
    {
     "data": {
      "text/plain": [
       "array([[[0, 0, 0],\n",
       "        [0, 0, 0]],\n",
       "\n",
       "       [[0, 0, 0],\n",
       "        [0, 0, 0]],\n",
       "\n",
       "       [[0, 0, 0],\n",
       "        [0, 0, 0]]])"
      ]
     },
     "execution_count": 93,
     "metadata": {},
     "output_type": "execute_result"
    }
   ],
   "source": [
    "e = np.array(\n",
    "    [\n",
    "        [\n",
    "            [1,2,3],\n",
    "            [4,5,6]\n",
    "        ],\n",
    "        \n",
    "        [   [1,2,3],\n",
    "            [4,5,6]\n",
    "        ],      \n",
    "        \n",
    "        [   [1,2,3],\n",
    "            [4,5,6]\n",
    "        ],\n",
    "        \n",
    "    ])\n",
    "\n",
    "f = np.array(\n",
    "    [\n",
    "        [\n",
    "            [1,2,3],\n",
    "            [4,5,6]\n",
    "        ],\n",
    "        \n",
    "        [   [1,2,3],\n",
    "            [4,5,6]\n",
    "        ],      \n",
    "        \n",
    "        [   [1,2,3],\n",
    "            [4,5,6]\n",
    "        ],\n",
    "        \n",
    "    ])\n",
    "\n",
    "np.remainder(e, f)"
   ]
  },
  {
   "cell_type": "markdown",
   "id": "55418898-dd21-416f-a0d1-f7ed02e6e38a",
   "metadata": {},
   "source": [
    "## np.power():"
   ]
  },
  {
   "cell_type": "code",
   "execution_count": 97,
   "id": "ca45a8e9-c924-4293-898f-77f1742524a8",
   "metadata": {},
   "outputs": [
    {
     "name": "stdout",
     "output_type": "stream",
     "text": [
      "[  1  32 729]\n"
     ]
    }
   ],
   "source": [
    "a = np.array([1,2,3])\n",
    "b = np.array([4,5,6])\n",
    "\n",
    "print(np.power(a, b))"
   ]
  },
  {
   "cell_type": "code",
   "execution_count": 98,
   "id": "e6a9aad8-bb66-4f9b-85b5-97d80b29ed2d",
   "metadata": {},
   "outputs": [
    {
     "data": {
      "text/plain": [
       "array([[    1,     4,    27],\n",
       "       [  256,  3125, 46656]])"
      ]
     },
     "execution_count": 98,
     "metadata": {},
     "output_type": "execute_result"
    }
   ],
   "source": [
    "c = np.array(\n",
    "    [\n",
    "        [1,2,3],\n",
    "        [4,5,6]\n",
    "    ])\n",
    "\n",
    "d = np.array(\n",
    "    [\n",
    "        [1,2,3],\n",
    "        [4,5,6]\n",
    "    ])\n",
    "np.power(c, d)"
   ]
  },
  {
   "cell_type": "code",
   "execution_count": 99,
   "id": "82a5ff53-099d-4add-bb36-1f037f45483f",
   "metadata": {},
   "outputs": [
    {
     "data": {
      "text/plain": [
       "array([[[    1,     4,    27],\n",
       "        [  256,  3125, 46656]],\n",
       "\n",
       "       [[    1,     4,    27],\n",
       "        [  256,  3125, 46656]],\n",
       "\n",
       "       [[    1,     4,    27],\n",
       "        [  256,  3125, 46656]]])"
      ]
     },
     "execution_count": 99,
     "metadata": {},
     "output_type": "execute_result"
    }
   ],
   "source": [
    "e = np.array(\n",
    "    [\n",
    "        [\n",
    "            [1,2,3],\n",
    "            [4,5,6]\n",
    "        ],\n",
    "        \n",
    "        [   [1,2,3],\n",
    "            [4,5,6]\n",
    "        ],      \n",
    "        \n",
    "        [   [1,2,3],\n",
    "            [4,5,6]\n",
    "        ],\n",
    "        \n",
    "    ])\n",
    "\n",
    "f = np.array(\n",
    "    [\n",
    "        [\n",
    "            [1,2,3],\n",
    "            [4,5,6]\n",
    "        ],\n",
    "        \n",
    "        [   [1,2,3],\n",
    "            [4,5,6]\n",
    "        ],      \n",
    "        \n",
    "        [   [1,2,3],\n",
    "            [4,5,6]\n",
    "        ],\n",
    "        \n",
    "    ])\n",
    "\n",
    "np.power(e, f)"
   ]
  },
  {
   "cell_type": "code",
   "execution_count": 93,
   "id": "858d317f-5f8e-4f69-b10a-082725997070",
   "metadata": {},
   "outputs": [
    {
     "data": {
      "text/plain": [
       "array([[[0, 0, 0],\n",
       "        [0, 0, 0]],\n",
       "\n",
       "       [[0, 0, 0],\n",
       "        [0, 0, 0]],\n",
       "\n",
       "       [[0, 0, 0],\n",
       "        [0, 0, 0]]])"
      ]
     },
     "execution_count": 93,
     "metadata": {},
     "output_type": "execute_result"
    }
   ],
   "source": [
    "e = np.array(\n",
    "    [\n",
    "        [\n",
    "            [1,2,3],\n",
    "            [4,5,6]\n",
    "        ],\n",
    "        \n",
    "        [   [1,2,3],\n",
    "            [4,5,6]\n",
    "        ],      \n",
    "        \n",
    "        [   [1,2,3],\n",
    "            [4,5,6]\n",
    "        ],\n",
    "        \n",
    "    ])\n",
    "\n",
    "f = np.array(\n",
    "    [\n",
    "        [\n",
    "            [1,2,3],\n",
    "            [4,5,6]\n",
    "        ],\n",
    "        \n",
    "        [   [1,2,3],\n",
    "            [4,5,6]\n",
    "        ],      \n",
    "        \n",
    "        [   [1,2,3],\n",
    "            [4,5,6]\n",
    "        ],\n",
    "        \n",
    "    ])\n",
    "\n",
    "np.remainder(e, f)"
   ]
  },
  {
   "cell_type": "markdown",
   "id": "59ba02a0-7f1f-4430-8e97-9e3ddf4fca82",
   "metadata": {},
   "source": [
    "## np.reciprocal():"
   ]
  },
  {
   "cell_type": "code",
   "execution_count": 104,
   "id": "03c92ca0-77de-4f26-b0a2-d3a8c88cd16c",
   "metadata": {},
   "outputs": [
    {
     "name": "stdout",
     "output_type": "stream",
     "text": [
      "[1 0 0]\n"
     ]
    }
   ],
   "source": [
    "a = np.array([1,2,3])\n",
    "\n",
    "\n",
    "print(np.reciprocal(a))"
   ]
  },
  {
   "cell_type": "code",
   "execution_count": 107,
   "id": "94ae95ce-8003-4720-9ce7-c1a574b03dcb",
   "metadata": {},
   "outputs": [
    {
     "data": {
      "text/plain": [
       "array([[1, 0, 0],\n",
       "       [0, 0, 0]])"
      ]
     },
     "execution_count": 107,
     "metadata": {},
     "output_type": "execute_result"
    }
   ],
   "source": [
    "c = np.array(\n",
    "    [\n",
    "        [1,2,3],\n",
    "        [4,5,6]\n",
    "    ])\n",
    "\n",
    "\n",
    "np.reciprocal(c)"
   ]
  },
  {
   "cell_type": "code",
   "execution_count": 110,
   "id": "0ed8020c-e1e8-4ac7-802c-51558a044761",
   "metadata": {},
   "outputs": [
    {
     "data": {
      "text/plain": [
       "array([[[1, 0, 0],\n",
       "        [0, 0, 0]],\n",
       "\n",
       "       [[1, 0, 0],\n",
       "        [0, 0, 0]],\n",
       "\n",
       "       [[1, 0, 0],\n",
       "        [0, 0, 0]]], dtype=int32)"
      ]
     },
     "execution_count": 110,
     "metadata": {},
     "output_type": "execute_result"
    }
   ],
   "source": [
    "e = np.array(\n",
    "    [\n",
    "        [\n",
    "            [1,2,3],\n",
    "            [4,5,6]\n",
    "        ],\n",
    "        \n",
    "        [   [1,2,3],\n",
    "            [4,5,6]\n",
    "        ],      \n",
    "        \n",
    "        [   [1,2,3],\n",
    "            [4,5,6]\n",
    "        ],\n",
    "        \n",
    "    ])\n",
    "\n",
    "\n",
    "\n",
    "np.reciprocal(e, dtype='i') # reciprocal is truncated to floor"
   ]
  }
 ],
 "metadata": {
  "kernelspec": {
   "display_name": "Python [conda env:ML]",
   "language": "python",
   "name": "conda-env-ML-py"
  },
  "language_info": {
   "codemirror_mode": {
    "name": "ipython",
    "version": 3
   },
   "file_extension": ".py",
   "mimetype": "text/x-python",
   "name": "python",
   "nbconvert_exporter": "python",
   "pygments_lexer": "ipython3",
   "version": "3.13.5"
  }
 },
 "nbformat": 4,
 "nbformat_minor": 5
}
