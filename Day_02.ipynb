{
 "cells": [
  {
   "cell_type": "markdown",
   "id": "406f5c02-546a-47bc-b724-9fcf02fc2993",
   "metadata": {},
   "source": [
    "# Datatypes in numpy"
   ]
  },
  {
   "cell_type": "code",
   "execution_count": 62,
   "id": "7e757745-1414-42e0-b70e-30964e6efb1f",
   "metadata": {},
   "outputs": [],
   "source": [
    "import numpy as np"
   ]
  },
  {
   "cell_type": "code",
   "execution_count": 63,
   "id": "3bda238c-510a-4b2f-980b-631c34679ebd",
   "metadata": {},
   "outputs": [
    {
     "name": "stdout",
     "output_type": "stream",
     "text": [
      "Data type is int64\n"
     ]
    }
   ],
   "source": [
    "var1 = np.array([1,2,3,4,7,11])\n",
    "print(f'Data type is {var1.dtype}')"
   ]
  },
  {
   "cell_type": "code",
   "execution_count": 64,
   "id": "abe1affb-ca58-42f8-a4f5-b29970ba626b",
   "metadata": {},
   "outputs": [
    {
     "name": "stdout",
     "output_type": "stream",
     "text": [
      "Data type is float64\n"
     ]
    }
   ],
   "source": [
    "var2 = np.zeros(2)\n",
    "print(f'Data type is {var2.dtype}')"
   ]
  },
  {
   "cell_type": "code",
   "execution_count": 65,
   "id": "4f08ab03-a14b-4f5a-8f14-941044681602",
   "metadata": {},
   "outputs": [
    {
     "name": "stdout",
     "output_type": "stream",
     "text": [
      "Data type is <U1\n"
     ]
    }
   ],
   "source": [
    "var3 = np.ones(3, dtype='str')\n",
    "print(f'Data type is {var3.dtype}') # So <U1 means: a Unicode string with up to 1 character.\n"
   ]
  },
  {
   "cell_type": "code",
   "execution_count": 66,
   "id": "9ab2aefb-b41d-4c1c-99ac-c203b86daa90",
   "metadata": {},
   "outputs": [
    {
     "name": "stdout",
     "output_type": "stream",
     "text": [
      "Data type is <U21\n"
     ]
    }
   ],
   "source": [
    "var4 = np.array([1,2,3,'4','5'])\n",
    "print(f'Data type is {var4.dtype}')"
   ]
  },
  {
   "cell_type": "code",
   "execution_count": 67,
   "id": "8d927272-f6b4-48b2-ba30-5104dca7f4aa",
   "metadata": {},
   "outputs": [
    {
     "data": {
      "text/plain": [
       "dtype('int8')"
      ]
     },
     "execution_count": 67,
     "metadata": {},
     "output_type": "execute_result"
    }
   ],
   "source": [
    "a = np.array([1,2,3,4],dtype = 'int8') # int of 8 bits meaning it can hold up to number ranging from -128 to +127\n",
    "a.dtype"
   ]
  },
  {
   "cell_type": "code",
   "execution_count": 68,
   "id": "bb92f430-febb-403e-9120-b9f61119f307",
   "metadata": {},
   "outputs": [
    {
     "data": {
      "text/plain": [
       "8"
      ]
     },
     "execution_count": 68,
     "metadata": {},
     "output_type": "execute_result"
    }
   ],
   "source": [
    "b = np.array([1,2,3,31234], dtype = 'int16') # -32768 to 32767\n",
    "b.nbytes"
   ]
  },
  {
   "cell_type": "markdown",
   "id": "6bc7af6f-2f4c-4a74-b5ec-30ca96d83838",
   "metadata": {},
   "source": [
    "## Numerical data types"
   ]
  },
  {
   "cell_type": "markdown",
   "id": "8636714f-5dec-4787-9456-f6fd0a66094b",
   "metadata": {},
   "source": [
    "## Int\n",
    "int8, int16, int32, int64\n"
   ]
  },
  {
   "cell_type": "markdown",
   "id": "7e3c7ad9-cab7-4a8a-afda-3de0bb5b4652",
   "metadata": {},
   "source": [
    "## Unsigned int\n",
    "uint8, uint16, uint32, uint64 (no negatives)\n"
   ]
  },
  {
   "cell_type": "markdown",
   "id": "c195ded7-f0db-4b39-9db3-bc498f210bfd",
   "metadata": {},
   "source": [
    "## Float\n",
    "float16, float32, float64\n"
   ]
  },
  {
   "cell_type": "markdown",
   "id": "f19062ff-913d-454e-a153-7b5570bb6546",
   "metadata": {},
   "source": [
    "## Complex\n",
    "complex64,128\n",
    "\n",
    "***"
   ]
  },
  {
   "cell_type": "markdown",
   "id": "f3643942-b71a-4e7b-9f74-720d47091d31",
   "metadata": {},
   "source": [
    "## String data types"
   ]
  },
  {
   "cell_type": "markdown",
   "id": "53b265b2-8e2f-43b8-8810-fe04c6ca4d17",
   "metadata": {},
   "source": [
    "## String\n",
    "U\n",
    "\n",
    "## bytes\n",
    "S\n",
    "\n",
    "## void\n",
    "\n",
    "---"
   ]
  },
  {
   "cell_type": "markdown",
   "id": "0412b040-dc58-49e4-9f66-b3834a09d929",
   "metadata": {},
   "source": [
    "## objects\n",
    "\n",
    "obejct_\n",
    "\n",
    "___"
   ]
  },
  {
   "cell_type": "markdown",
   "id": "28723ef0-980a-436d-a533-cd8551c3d40c",
   "metadata": {},
   "source": [
    "## Date\n",
    "datetime64\n",
    "\n",
    "## Time\n",
    "timedelta 64\n",
    "\n",
    "***"
   ]
  },
  {
   "cell_type": "code",
   "execution_count": 69,
   "id": "2fd2bb4f-6b10-44f2-81d0-8a15a69456fb",
   "metadata": {},
   "outputs": [
    {
     "data": {
      "text/plain": [
       "dtype('<M8[s]')"
      ]
     },
     "execution_count": 69,
     "metadata": {},
     "output_type": "execute_result"
    }
   ],
   "source": [
    "time1 = np.datetime64('2025-09-17T20:30:00')\n",
    "time1.dtype"
   ]
  },
  {
   "cell_type": "code",
   "execution_count": 70,
   "id": "1e1b8f5d-2bc3-4e8a-9949-bf47ee8ef28b",
   "metadata": {},
   "outputs": [
    {
     "name": "stdout",
     "output_type": "stream",
     "text": [
      "2025-09-18T01:30:00\n"
     ]
    }
   ],
   "source": [
    "delta = np.timedelta64(5,'h')\n",
    "print(time1 + delta)"
   ]
  },
  {
   "cell_type": "markdown",
   "id": "4b998028-deef-4346-896b-dc7323613cf2",
   "metadata": {},
   "source": [
    "## datetime_as_string ()"
   ]
  },
  {
   "cell_type": "code",
   "execution_count": 71,
   "id": "1cc21be2-e56a-4fc5-9e8f-cd54eb97a66e",
   "metadata": {},
   "outputs": [
    {
     "data": {
      "text/plain": [
       "dtype('<M8[m]')"
      ]
     },
     "execution_count": 71,
     "metadata": {},
     "output_type": "execute_result"
    }
   ],
   "source": [
    "array12 = np.array(['2025-08-17T20:30', '2025-08-17T20:00'], dtype='datetime64')\n",
    "array12.dtype"
   ]
  },
  {
   "cell_type": "code",
   "execution_count": 72,
   "id": "c3eae2ad-5263-4335-84bd-9258ccc9d013",
   "metadata": {},
   "outputs": [
    {
     "data": {
      "text/plain": [
       "array(['2025-08-17T20:30:00', '2025-08-17T20:00:00'], dtype='<U38')"
      ]
     },
     "execution_count": 72,
     "metadata": {},
     "output_type": "execute_result"
    }
   ],
   "source": [
    "time2 = np.datetime_as_string(array12, unit='s')\n",
    "time2"
   ]
  },
  {
   "cell_type": "code",
   "execution_count": 73,
   "id": "6f8a57b5-bcf7-4138-a43d-70d1ffb51847",
   "metadata": {},
   "outputs": [
    {
     "data": {
      "text/plain": [
       "array(['2025-08-17T20:30', '2025-08-17T20:00'], dtype='<U35')"
      ]
     },
     "execution_count": 73,
     "metadata": {},
     "output_type": "execute_result"
    }
   ],
   "source": [
    "time2 = np.datetime_as_string(array12, unit='m')\n",
    "time2"
   ]
  },
  {
   "cell_type": "code",
   "execution_count": 74,
   "id": "4f990d85-ca28-44c4-9370-f969e8003c4d",
   "metadata": {},
   "outputs": [
    {
     "data": {
      "text/plain": [
       "array(['2025-08-17T20', '2025-08-17T20'], dtype='<U32')"
      ]
     },
     "execution_count": 74,
     "metadata": {},
     "output_type": "execute_result"
    }
   ],
   "source": [
    "time2 = np.datetime_as_string(array12, unit='h')\n",
    "time2"
   ]
  },
  {
   "cell_type": "code",
   "execution_count": 75,
   "id": "6b60c138-e443-44e4-8e66-c98bc03748ad",
   "metadata": {},
   "outputs": [
    {
     "data": {
      "text/plain": [
       "array(['2025-08-17T20:30', '2025-08-17T20:00'], dtype='<U35')"
      ]
     },
     "execution_count": 75,
     "metadata": {},
     "output_type": "execute_result"
    }
   ],
   "source": [
    "time2 = np.datetime_as_string(array12, unit='m')\n",
    "time2"
   ]
  },
  {
   "cell_type": "code",
   "execution_count": 76,
   "id": "665dec48-b772-4992-b98f-2946ae982c62",
   "metadata": {},
   "outputs": [
    {
     "data": {
      "text/plain": [
       "array(['2025-08-17T20:30:00.000', '2025-08-17T20:00:00.000'], dtype='<U42')"
      ]
     },
     "execution_count": 76,
     "metadata": {},
     "output_type": "execute_result"
    }
   ],
   "source": [
    "time2 = np.datetime_as_string(array12, unit='ms')\n",
    "time2"
   ]
  },
  {
   "cell_type": "code",
   "execution_count": 77,
   "id": "f23a1920-4ea7-47d3-b93a-fbcefe2b257e",
   "metadata": {},
   "outputs": [
    {
     "data": {
      "text/plain": [
       "array(['2025-08-17T20:30:00.000000', '2025-08-17T20:00:00.000000'],\n",
       "      dtype='<U45')"
      ]
     },
     "execution_count": 77,
     "metadata": {},
     "output_type": "execute_result"
    }
   ],
   "source": [
    "time2 = np.datetime_as_string(array12, unit='us')\n",
    "time2"
   ]
  },
  {
   "cell_type": "code",
   "execution_count": 78,
   "id": "09d9d223-c0d3-4b31-9ae6-88dc3a9bb8d7",
   "metadata": {},
   "outputs": [
    {
     "data": {
      "text/plain": [
       "array(['2025-08-17T20:30:00.000000000000',\n",
       "       '2025-08-17T20:00:00.000000000000'], dtype='<U51')"
      ]
     },
     "execution_count": 78,
     "metadata": {},
     "output_type": "execute_result"
    }
   ],
   "source": [
    "time2 = np.datetime_as_string(array12, unit='ps')\n",
    "time2"
   ]
  },
  {
   "cell_type": "code",
   "execution_count": 79,
   "id": "7f135666-fab9-4cf7-94cc-8efc5d5418b4",
   "metadata": {},
   "outputs": [
    {
     "data": {
      "text/plain": [
       "array(['2025-08-17', '2025-08-17'], dtype='<U28')"
      ]
     },
     "execution_count": 79,
     "metadata": {},
     "output_type": "execute_result"
    }
   ],
   "source": [
    "time2 = np.datetime_as_string(array12, unit='D')\n",
    "time2"
   ]
  },
  {
   "cell_type": "code",
   "execution_count": 80,
   "id": "8e2011b6-0c46-4a45-a139-4bb6ceecf91d",
   "metadata": {},
   "outputs": [
    {
     "data": {
      "text/plain": [
       "array(['2025-08', '2025-08'], dtype='<U25')"
      ]
     },
     "execution_count": 80,
     "metadata": {},
     "output_type": "execute_result"
    }
   ],
   "source": [
    "time2 = np.datetime_as_string(array12, unit='M')\n",
    "time2"
   ]
  },
  {
   "cell_type": "code",
   "execution_count": 81,
   "id": "fc922a1d-ff4e-4d68-a798-50dd6e63eaf1",
   "metadata": {},
   "outputs": [
    {
     "data": {
      "text/plain": [
       "array(['2025', '2025'], dtype='<U22')"
      ]
     },
     "execution_count": 81,
     "metadata": {},
     "output_type": "execute_result"
    }
   ],
   "source": [
    "time2 = np.datetime_as_string(array12, unit='Y')\n",
    "time2"
   ]
  }
 ],
 "metadata": {
  "kernelspec": {
   "display_name": "Python [conda env:base] *",
   "language": "python",
   "name": "conda-base-py"
  },
  "language_info": {
   "codemirror_mode": {
    "name": "ipython",
    "version": 3
   },
   "file_extension": ".py",
   "mimetype": "text/x-python",
   "name": "python",
   "nbconvert_exporter": "python",
   "pygments_lexer": "ipython3",
   "version": "3.13.5"
  }
 },
 "nbformat": 4,
 "nbformat_minor": 5
}
