{
 "cells": [
  {
   "cell_type": "markdown",
   "id": "24994d38-abdd-4e2c-bcea-47884ea69171",
   "metadata": {},
   "source": [
    "# Some of the mathematical functions used in numpy:"
   ]
  },
  {
   "cell_type": "code",
   "execution_count": 3,
   "id": "59ea3599-483c-421e-81e8-003d12f63805",
   "metadata": {},
   "outputs": [],
   "source": [
    "import numpy as np"
   ]
  },
  {
   "cell_type": "code",
   "execution_count": 5,
   "id": "a2445d0f-5555-4ae4-a575-e3dc09ccbceb",
   "metadata": {},
   "outputs": [],
   "source": [
    "a = np.array([1,2,3,4])\n",
    "\n",
    "b = np.array([4,3,2,1])\n",
    "\n",
    "c = np.array(\n",
    "    [\n",
    "        [1,2,3,4],\n",
    "        [4,3,2,1]\n",
    "    ])\n",
    "\n",
    "d =  np.array(\n",
    "    [\n",
    "        [4,3,2,1],\n",
    "        [1,2,3,4],\n",
    "    ])\n",
    "\n",
    "\n",
    "e = np.array(\n",
    "    [\n",
    "        [\n",
    "            [1,2,3,4],\n",
    "            [4,3,2,1]\n",
    "        ],\n",
    "        [\n",
    "            [1,2,3,4],\n",
    "            [4,3,2,1]\n",
    "        ]\n",
    "    ])\n",
    "\n",
    "f = np.array(\n",
    "    [\n",
    "        [\n",
    "            [4,3,2,1],\n",
    "            [1,2,3,4],\n",
    "        ],\n",
    "        [\n",
    "            [4,3,2,1],\n",
    "            [1,2,3,4],\n",
    "        ]\n",
    "    ])\n",
    "\n"
   ]
  },
  {
   "cell_type": "markdown",
   "id": "e552dffc-51af-4c32-a9f5-c62cbaabf3b4",
   "metadata": {},
   "source": [
    "## There are 3-axes in 3-d array:\n",
    "\n",
    "Axis 0 (Depth) → \"Layers\" (2 layers)\n",
    "\n",
    "Axis 1 (Rows)  → Vertical (3 rows per layer)  \n",
    "\n",
    "Axis 2 (Cols)  → Horizontal (4 columns per layer)  \n",
    "\n",
    "Layer 0:       Layer 1:\n",
    "\n",
    "[[ 0,  1,  2,  3],   [[12, 13, 14, 15],\n",
    "                      \n",
    " [ 4,  5,  6,  7],    [16, 17, 18, 19],\n",
    "                      \n",
    " [ 8,  9, 10, 11]]    [20, 21, 22, 23]]"
   ]
  },
  {
   "cell_type": "markdown",
   "id": "5e089f2e-993e-481e-b339-5a8766ae03d2",
   "metadata": {},
   "source": [
    "## 1. Arithmetic functions (Done in Day_03 file)"
   ]
  },
  {
   "cell_type": "markdown",
   "id": "d06ebbfa-f364-485d-8ac3-94f315bc172f",
   "metadata": {},
   "source": [
    "***\n",
    "## 2. Reduction Functions:\n",
    "Collapse arrays into summary values."
   ]
  },
  {
   "cell_type": "markdown",
   "id": "b6605aa3-df1e-4848-adba-70e073e8bb2c",
   "metadata": {},
   "source": [
    "### np.sum():"
   ]
  },
  {
   "cell_type": "code",
   "execution_count": 6,
   "id": "b5ef3e82-418b-4e08-afa7-a3f398a0ed9d",
   "metadata": {},
   "outputs": [
    {
     "data": {
      "text/plain": [
       "np.int64(10)"
      ]
     },
     "execution_count": 6,
     "metadata": {},
     "output_type": "execute_result"
    }
   ],
   "source": [
    "np.sum(a)"
   ]
  },
  {
   "cell_type": "code",
   "execution_count": 9,
   "id": "355f9906-e471-474b-a711-965f177df581",
   "metadata": {},
   "outputs": [
    {
     "data": {
      "text/plain": [
       "np.int64(20)"
      ]
     },
     "execution_count": 9,
     "metadata": {},
     "output_type": "execute_result"
    }
   ],
   "source": [
    "np.sum(c)"
   ]
  },
  {
   "cell_type": "code",
   "execution_count": 10,
   "id": "9d9f9c13-844b-4bd8-adc4-0dca5a0a7302",
   "metadata": {},
   "outputs": [
    {
     "data": {
      "text/plain": [
       "np.int64(40)"
      ]
     },
     "execution_count": 10,
     "metadata": {},
     "output_type": "execute_result"
    }
   ],
   "source": [
    "np.sum(e)"
   ]
  },
  {
   "cell_type": "markdown",
   "id": "5d2f3c64-15ce-4047-a7af-4e578e5970f2",
   "metadata": {},
   "source": [
    "### np.prod():"
   ]
  },
  {
   "cell_type": "code",
   "execution_count": 11,
   "id": "6964a5f6-6c0b-4ec3-a0c7-305342cb3e57",
   "metadata": {},
   "outputs": [
    {
     "data": {
      "text/plain": [
       "np.int64(24)"
      ]
     },
     "execution_count": 11,
     "metadata": {},
     "output_type": "execute_result"
    }
   ],
   "source": [
    "np.prod(a)"
   ]
  },
  {
   "cell_type": "code",
   "execution_count": 12,
   "id": "f107353d-b91c-43df-8a8d-fad53130ecee",
   "metadata": {},
   "outputs": [
    {
     "data": {
      "text/plain": [
       "np.int64(576)"
      ]
     },
     "execution_count": 12,
     "metadata": {},
     "output_type": "execute_result"
    }
   ],
   "source": [
    "np.prod(d)"
   ]
  },
  {
   "cell_type": "code",
   "execution_count": 13,
   "id": "9b215ab8-355c-4e05-a120-ef6532d4d558",
   "metadata": {},
   "outputs": [
    {
     "data": {
      "text/plain": [
       "np.int64(331776)"
      ]
     },
     "execution_count": 13,
     "metadata": {},
     "output_type": "execute_result"
    }
   ],
   "source": [
    "np.prod(f)"
   ]
  },
  {
   "cell_type": "markdown",
   "id": "d6ade963-3381-4ab5-a115-31125d5109cd",
   "metadata": {},
   "source": [
    "### np.mean():"
   ]
  },
  {
   "cell_type": "code",
   "execution_count": 15,
   "id": "9a2782a0-e1ca-4002-8adb-3f8191431a7f",
   "metadata": {},
   "outputs": [
    {
     "data": {
      "text/plain": [
       "np.float64(2.5)"
      ]
     },
     "execution_count": 15,
     "metadata": {},
     "output_type": "execute_result"
    }
   ],
   "source": [
    "np.mean(a)"
   ]
  },
  {
   "cell_type": "code",
   "execution_count": 16,
   "id": "f56471ef-86d9-4389-8e01-bc5946156cb7",
   "metadata": {},
   "outputs": [
    {
     "data": {
      "text/plain": [
       "np.float64(2.5)"
      ]
     },
     "execution_count": 16,
     "metadata": {},
     "output_type": "execute_result"
    }
   ],
   "source": [
    "np.mean(c)"
   ]
  },
  {
   "cell_type": "code",
   "execution_count": 17,
   "id": "82c46288-3af0-4aff-a5c8-18e15b9af6b8",
   "metadata": {},
   "outputs": [
    {
     "data": {
      "text/plain": [
       "np.float64(2.5)"
      ]
     },
     "execution_count": 17,
     "metadata": {},
     "output_type": "execute_result"
    }
   ],
   "source": [
    "np.mean(e)"
   ]
  },
  {
   "cell_type": "markdown",
   "id": "3733ccfa-cddb-4c8c-937c-6291e5388c5d",
   "metadata": {},
   "source": [
    "### np.std():"
   ]
  },
  {
   "cell_type": "code",
   "execution_count": 18,
   "id": "6d58e5f4-11c8-4456-a4ee-6f4d8e1ddba6",
   "metadata": {},
   "outputs": [
    {
     "data": {
      "text/plain": [
       "np.float64(1.118033988749895)"
      ]
     },
     "execution_count": 18,
     "metadata": {},
     "output_type": "execute_result"
    }
   ],
   "source": [
    "np.std(a)"
   ]
  },
  {
   "cell_type": "code",
   "execution_count": 19,
   "id": "a1012489-a6f4-4cf8-ac1b-c1bd528aea2f",
   "metadata": {},
   "outputs": [
    {
     "data": {
      "text/plain": [
       "np.float64(1.118033988749895)"
      ]
     },
     "execution_count": 19,
     "metadata": {},
     "output_type": "execute_result"
    }
   ],
   "source": [
    "np.std(c)"
   ]
  },
  {
   "cell_type": "code",
   "execution_count": 20,
   "id": "8ec9b0d9-7ad9-412b-86fc-f2a28aeb5a60",
   "metadata": {},
   "outputs": [
    {
     "data": {
      "text/plain": [
       "np.float64(1.118033988749895)"
      ]
     },
     "execution_count": 20,
     "metadata": {},
     "output_type": "execute_result"
    }
   ],
   "source": [
    "np.std(e)"
   ]
  },
  {
   "cell_type": "code",
   "execution_count": 21,
   "id": "17d46360-c130-45c7-bc18-24e279d7349c",
   "metadata": {},
   "outputs": [
    {
     "data": {
      "text/plain": [
       "np.float64(1.25)"
      ]
     },
     "execution_count": 21,
     "metadata": {},
     "output_type": "execute_result"
    }
   ],
   "source": [
    "np.var(a)"
   ]
  },
  {
   "cell_type": "code",
   "execution_count": 22,
   "id": "b11da64a-4fd3-4a33-876a-36a3e7f6646c",
   "metadata": {},
   "outputs": [
    {
     "data": {
      "text/plain": [
       "np.float64(1.25)"
      ]
     },
     "execution_count": 22,
     "metadata": {},
     "output_type": "execute_result"
    }
   ],
   "source": [
    "np.var(d)"
   ]
  },
  {
   "cell_type": "code",
   "execution_count": 23,
   "id": "8e8b94a4-db95-4dca-8e4d-24daa81a53b3",
   "metadata": {},
   "outputs": [
    {
     "data": {
      "text/plain": [
       "np.float64(1.25)"
      ]
     },
     "execution_count": 23,
     "metadata": {},
     "output_type": "execute_result"
    }
   ],
   "source": [
    "np.var(e)"
   ]
  },
  {
   "cell_type": "markdown",
   "id": "a7969174-c2ee-4f64-85cb-688eca6c892b",
   "metadata": {},
   "source": [
    "### np.min():"
   ]
  },
  {
   "cell_type": "code",
   "execution_count": 24,
   "id": "1945fb67-f61f-42f6-b30a-6e48816686e0",
   "metadata": {},
   "outputs": [
    {
     "data": {
      "text/plain": [
       "np.int64(1)"
      ]
     },
     "execution_count": 24,
     "metadata": {},
     "output_type": "execute_result"
    }
   ],
   "source": [
    "np.min(b)"
   ]
  },
  {
   "cell_type": "code",
   "execution_count": 25,
   "id": "d4f0503b-5a59-4ce5-8076-f0121b1f2a43",
   "metadata": {},
   "outputs": [
    {
     "data": {
      "text/plain": [
       "np.int64(1)"
      ]
     },
     "execution_count": 25,
     "metadata": {},
     "output_type": "execute_result"
    }
   ],
   "source": [
    "np.min(c)"
   ]
  },
  {
   "cell_type": "code",
   "execution_count": 26,
   "id": "0a91a414-34f6-4f8c-8511-669f6ef34577",
   "metadata": {},
   "outputs": [
    {
     "data": {
      "text/plain": [
       "np.int64(1)"
      ]
     },
     "execution_count": 26,
     "metadata": {},
     "output_type": "execute_result"
    }
   ],
   "source": [
    "np.min(e)"
   ]
  },
  {
   "cell_type": "markdown",
   "id": "1ee88ecf-ce45-42c8-b8db-553f2a5e3b91",
   "metadata": {},
   "source": [
    "### np.max():"
   ]
  },
  {
   "cell_type": "code",
   "execution_count": 27,
   "id": "51fb9c01-e14a-4d20-8df6-cac54f2326db",
   "metadata": {},
   "outputs": [
    {
     "data": {
      "text/plain": [
       "np.int64(4)"
      ]
     },
     "execution_count": 27,
     "metadata": {},
     "output_type": "execute_result"
    }
   ],
   "source": [
    "np.max(a)"
   ]
  },
  {
   "cell_type": "code",
   "execution_count": 28,
   "id": "4565fd18-31d7-44cc-b0c6-30341d19b601",
   "metadata": {},
   "outputs": [
    {
     "data": {
      "text/plain": [
       "np.int64(4)"
      ]
     },
     "execution_count": 28,
     "metadata": {},
     "output_type": "execute_result"
    }
   ],
   "source": [
    "np.max(c)"
   ]
  },
  {
   "cell_type": "code",
   "execution_count": 29,
   "id": "1b1d5533-d47e-4eb3-a786-d217d8dfb707",
   "metadata": {},
   "outputs": [
    {
     "data": {
      "text/plain": [
       "np.int64(4)"
      ]
     },
     "execution_count": 29,
     "metadata": {},
     "output_type": "execute_result"
    }
   ],
   "source": [
    "np.max(e)"
   ]
  },
  {
   "cell_type": "markdown",
   "id": "0b0175d9-054c-4fa0-8e6b-f97a52febaa0",
   "metadata": {},
   "source": [
    "### np.argmin():\n",
    "- It givex the index ( position ) where min value lies:"
   ]
  },
  {
   "cell_type": "code",
   "execution_count": 32,
   "id": "b5209d87-c62a-40dd-9171-d06a7d5f9182",
   "metadata": {},
   "outputs": [
    {
     "data": {
      "text/plain": [
       "np.int64(0)"
      ]
     },
     "execution_count": 32,
     "metadata": {},
     "output_type": "execute_result"
    }
   ],
   "source": [
    "np.argmin(a)"
   ]
  },
  {
   "cell_type": "code",
   "execution_count": 33,
   "id": "d22ad2a0-c240-4409-8693-6d4902c650b1",
   "metadata": {},
   "outputs": [
    {
     "data": {
      "text/plain": [
       "np.int64(0)"
      ]
     },
     "execution_count": 33,
     "metadata": {},
     "output_type": "execute_result"
    }
   ],
   "source": [
    "np.argmin(c)"
   ]
  },
  {
   "cell_type": "code",
   "execution_count": 34,
   "id": "fa9f73a5-0577-48ff-913e-632168907490",
   "metadata": {},
   "outputs": [
    {
     "data": {
      "text/plain": [
       "np.int64(0)"
      ]
     },
     "execution_count": 34,
     "metadata": {},
     "output_type": "execute_result"
    }
   ],
   "source": [
    "np.argmin(e)"
   ]
  },
  {
   "cell_type": "markdown",
   "id": "bac1fbb2-b2e4-4de3-a973-2b9c5e246d6a",
   "metadata": {},
   "source": [
    "### np.argmax():"
   ]
  },
  {
   "cell_type": "code",
   "execution_count": 35,
   "id": "5b691e91-39ba-4797-afe9-46e39b6a28ac",
   "metadata": {},
   "outputs": [
    {
     "data": {
      "text/plain": [
       "np.int64(3)"
      ]
     },
     "execution_count": 35,
     "metadata": {},
     "output_type": "execute_result"
    }
   ],
   "source": [
    "np.argmax(a)"
   ]
  },
  {
   "cell_type": "code",
   "execution_count": 36,
   "id": "ca75cf3d-d033-4de4-9362-0a8691e395ba",
   "metadata": {},
   "outputs": [
    {
     "data": {
      "text/plain": [
       "np.int64(3)"
      ]
     },
     "execution_count": 36,
     "metadata": {},
     "output_type": "execute_result"
    }
   ],
   "source": [
    "np.argmax(c)"
   ]
  },
  {
   "cell_type": "code",
   "execution_count": 37,
   "id": "74e5b787-2e00-49a4-9800-4b0c4c5eb82c",
   "metadata": {},
   "outputs": [
    {
     "data": {
      "text/plain": [
       "np.int64(3)"
      ]
     },
     "execution_count": 37,
     "metadata": {},
     "output_type": "execute_result"
    }
   ],
   "source": [
    "np.argmax(e)"
   ]
  },
  {
   "cell_type": "code",
   "execution_count": null,
   "id": "7d1c3ebf-f72e-4f6b-89ad-3b336047a3f6",
   "metadata": {},
   "outputs": [],
   "source": []
  },
  {
   "cell_type": "markdown",
   "id": "14a3c854-8fad-46e3-a8a5-1fed8336e808",
   "metadata": {},
   "source": [
    "---\n",
    "\n",
    "## Accumulative functions\n",
    "\n",
    "Build up results progressively across elements."
   ]
  },
  {
   "cell_type": "markdown",
   "id": "9b0cf3bc-012f-4101-89ed-4b59fdda69df",
   "metadata": {},
   "source": [
    "### np.cumsum(): Cummulative sum"
   ]
  },
  {
   "cell_type": "code",
   "execution_count": 68,
   "id": "2ce15c16-42a5-47e7-8363-7e7ade817f3d",
   "metadata": {},
   "outputs": [
    {
     "data": {
      "text/plain": [
       "array([ 1,  3,  6, 10])"
      ]
     },
     "execution_count": 68,
     "metadata": {},
     "output_type": "execute_result"
    }
   ],
   "source": [
    "np.cumsum(a) #axis = none(flattened)"
   ]
  },
  {
   "cell_type": "code",
   "execution_count": 71,
   "id": "ccfa61c2-e9c7-4ccb-a8b5-4cd9cb24d192",
   "metadata": {},
   "outputs": [
    {
     "data": {
      "text/plain": [
       "array([[ 4,  7,  9, 10],\n",
       "       [ 1,  3,  6, 10]])"
      ]
     },
     "execution_count": 71,
     "metadata": {},
     "output_type": "execute_result"
    }
   ],
   "source": [
    "np.cumsum(d, axis=1) # axis = 1 (column-wise sum) "
   ]
  },
  {
   "cell_type": "code",
   "execution_count": 87,
   "id": "e4f1d0df-f301-4400-9864-6558ca3fad55",
   "metadata": {},
   "outputs": [
    {
     "data": {
      "text/plain": [
       "array([[[1, 2, 3, 4],\n",
       "        [4, 3, 2, 1]],\n",
       "\n",
       "       [[2, 4, 6, 8],\n",
       "        [8, 6, 4, 2]]])"
      ]
     },
     "execution_count": 87,
     "metadata": {},
     "output_type": "execute_result"
    }
   ],
   "source": [
    "np.cumsum(e, axis=0) # axis = 0 (depth-wise sum)\n"
   ]
  },
  {
   "cell_type": "markdown",
   "id": "c93fd0e5-f736-4706-93b9-f1a21cf347ce",
   "metadata": {},
   "source": [
    "### np.cumprod(): Cummulative prod"
   ]
  },
  {
   "cell_type": "code",
   "execution_count": 77,
   "id": "632753cf-bbdf-4ca3-a3e7-1a3479f01290",
   "metadata": {},
   "outputs": [
    {
     "data": {
      "text/plain": [
       "array([ 1,  2,  6, 24])"
      ]
     },
     "execution_count": 77,
     "metadata": {},
     "output_type": "execute_result"
    }
   ],
   "source": [
    "np.cumprod(a, axis=None) # flattened ( row-wise and column-wise concept doesn't support 1-d array.)"
   ]
  },
  {
   "cell_type": "code",
   "execution_count": 84,
   "id": "12ad4d1d-5479-475f-b71a-488e36a94db5",
   "metadata": {},
   "outputs": [
    {
     "data": {
      "text/plain": [
       "array([[ 1,  2,  6, 24],\n",
       "       [ 4, 12, 24, 24]])"
      ]
     },
     "execution_count": 84,
     "metadata": {},
     "output_type": "execute_result"
    }
   ],
   "source": [
    "np.cumprod(c, axis=1) # column-wise product"
   ]
  },
  {
   "cell_type": "code",
   "execution_count": 90,
   "id": "239e0eb5-076e-47f0-affd-397645c62de7",
   "metadata": {},
   "outputs": [
    {
     "data": {
      "text/plain": [
       "array([[[ 4, 12, 24, 24],\n",
       "        [ 1,  2,  6, 24]],\n",
       "\n",
       "       [[ 4, 12, 24, 24],\n",
       "        [ 1,  2,  6, 24]]])"
      ]
     },
     "execution_count": 90,
     "metadata": {},
     "output_type": "execute_result"
    }
   ],
   "source": [
    "np.cumprod(f, axis=2) # column-wise product"
   ]
  },
  {
   "cell_type": "markdown",
   "id": "902877b0-8b6d-43b8-bbe4-ada469fd6338",
   "metadata": {},
   "source": [
    "### np.maximum.accumulate():\n",
    "\n",
    "measure and return the maximum number"
   ]
  },
  {
   "cell_type": "code",
   "execution_count": 91,
   "id": "14a82873-ffa6-42e7-9409-3261df11062b",
   "metadata": {},
   "outputs": [
    {
     "data": {
      "text/plain": [
       "array([4, 4, 4, 4])"
      ]
     },
     "execution_count": 91,
     "metadata": {},
     "output_type": "execute_result"
    }
   ],
   "source": [
    "np.maximum.accumulate(b)"
   ]
  },
  {
   "cell_type": "code",
   "execution_count": 51,
   "id": "3c51ed5b-ef12-4f2b-ac38-f3903cfe09fc",
   "metadata": {},
   "outputs": [
    {
     "data": {
      "text/plain": [
       "array([[1, 2, 3, 4],\n",
       "       [4, 3, 3, 4]])"
      ]
     },
     "execution_count": 51,
     "metadata": {},
     "output_type": "execute_result"
    }
   ],
   "source": [
    "np.maximum.accumulate(c)"
   ]
  },
  {
   "cell_type": "code",
   "execution_count": 95,
   "id": "208763df-944f-4387-bcbb-c5e641127d4c",
   "metadata": {},
   "outputs": [
    {
     "data": {
      "text/plain": [
       "array([[[4, 3, 2, 1],\n",
       "        [1, 2, 3, 4]],\n",
       "\n",
       "       [[4, 3, 2, 1],\n",
       "        [1, 2, 3, 4]]])"
      ]
     },
     "execution_count": 95,
     "metadata": {},
     "output_type": "execute_result"
    }
   ],
   "source": [
    "np.maximum.accumulate(f, axis=0)"
   ]
  },
  {
   "cell_type": "markdown",
   "id": "915e4890-4a99-4075-ac4a-307ce1c03a9a",
   "metadata": {},
   "source": [
    "### np.minimum.accumulate():\n",
    "\n",
    "measure and return the minimum number"
   ]
  },
  {
   "cell_type": "code",
   "execution_count": 97,
   "id": "e4e746cf-cf2b-4d83-83bf-cd94f70521aa",
   "metadata": {},
   "outputs": [
    {
     "data": {
      "text/plain": [
       "array([1, 1, 1, 1])"
      ]
     },
     "execution_count": 97,
     "metadata": {},
     "output_type": "execute_result"
    }
   ],
   "source": [
    "np.minimum.accumulate(a)"
   ]
  },
  {
   "cell_type": "code",
   "execution_count": 98,
   "id": "7e221438-0c6f-49b0-8340-76d8318c13f6",
   "metadata": {},
   "outputs": [
    {
     "data": {
      "text/plain": [
       "array([[1, 2, 3, 4],\n",
       "       [1, 2, 2, 1]])"
      ]
     },
     "execution_count": 98,
     "metadata": {},
     "output_type": "execute_result"
    }
   ],
   "source": [
    "np.minimum.accumulate(c)"
   ]
  },
  {
   "cell_type": "code",
   "execution_count": 100,
   "id": "3c25de6a-e195-4b82-9352-1d47c402e82c",
   "metadata": {},
   "outputs": [
    {
     "data": {
      "text/plain": [
       "array([[[4, 3, 2, 1],\n",
       "        [1, 2, 3, 4]],\n",
       "\n",
       "       [[4, 3, 2, 1],\n",
       "        [1, 2, 3, 4]]])"
      ]
     },
     "execution_count": 100,
     "metadata": {},
     "output_type": "execute_result"
    }
   ],
   "source": [
    "np.minimum.accumulate(f)"
   ]
  }
 ],
 "metadata": {
  "kernelspec": {
   "display_name": "Python [conda env:base] *",
   "language": "python",
   "name": "conda-base-py"
  },
  "language_info": {
   "codemirror_mode": {
    "name": "ipython",
    "version": 3
   },
   "file_extension": ".py",
   "mimetype": "text/x-python",
   "name": "python",
   "nbconvert_exporter": "python",
   "pygments_lexer": "ipython3",
   "version": "3.13.5"
  }
 },
 "nbformat": 4,
 "nbformat_minor": 5
}
